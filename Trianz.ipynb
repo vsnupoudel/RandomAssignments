{
  "cells": [
    {
      "cell_type": "markdown",
      "metadata": {
        "id": "view-in-github",
        "colab_type": "text"
      },
      "source": [
        "<a href=\"https://colab.research.google.com/github/vsnupoudel/RandomAssignments/blob/main/Trianz.ipynb\" target=\"_parent\"><img src=\"https://colab.research.google.com/assets/colab-badge.svg\" alt=\"Open In Colab\"/></a>"
      ]
    },
    {
      "cell_type": "code",
      "execution_count": 46,
      "metadata": {
        "id": "MihFHihMroVa"
      },
      "outputs": [],
      "source": [
        "strs = \"csestack\"\n",
        "\n",
        "dicts = {}\n",
        "for c in strs:\n",
        "    if c in dicts:\n",
        "      dicts[c] +=1\n",
        "    else:\n",
        "      dicts[c] = 1\n"
      ]
    },
    {
      "cell_type": "code",
      "execution_count": 47,
      "metadata": {
        "colab": {
          "base_uri": "https://localhost:8080/"
        },
        "id": "FDqealKvvSxE",
        "outputId": "9437ba1e-312b-444f-ca11-283e231a0b1b"
      },
      "outputs": [
        {
          "output_type": "execute_result",
          "data": {
            "text/plain": [
              "['c', 's', 'e', 't', 'a', 'k']"
            ]
          },
          "metadata": {},
          "execution_count": 47
        }
      ],
      "source": [
        "list( dicts.keys() )"
      ]
    },
    {
      "cell_type": "code",
      "execution_count": 48,
      "metadata": {
        "id": "Wj6G1KsXvalx"
      },
      "outputs": [],
      "source": [
        "dicts_sorted = dict(sorted(dicts.items(), key=lambda item: item[1]))"
      ]
    },
    {
      "cell_type": "code",
      "execution_count": 49,
      "metadata": {
        "id": "HstMtFd8vwqn"
      },
      "outputs": [],
      "source": [
        "def append_keys(k,v):\n",
        "  return k*v"
      ]
    },
    {
      "cell_type": "code",
      "source": [
        "di = list(  map(lambda k: k[0]*k[1] , dicts_sorted.items())  )\n",
        "di"
      ],
      "metadata": {
        "colab": {
          "base_uri": "https://localhost:8080/"
        },
        "id": "h-1OpFlaLe1G",
        "outputId": "02a1b1f5-631e-4b04-f860-1d6615b161ec"
      },
      "execution_count": 50,
      "outputs": [
        {
          "output_type": "execute_result",
          "data": {
            "text/plain": [
              "['e', 't', 'a', 'k', 'cc', 'ss']"
            ]
          },
          "metadata": {},
          "execution_count": 50
        }
      ]
    },
    {
      "cell_type": "code",
      "source": [
        "''.join(di)"
      ],
      "metadata": {
        "colab": {
          "base_uri": "https://localhost:8080/",
          "height": 36
        },
        "id": "ulIkzd4eN165",
        "outputId": "be1db4bb-4dfd-400a-99b2-0e1724ef1a10"
      },
      "execution_count": 51,
      "outputs": [
        {
          "output_type": "execute_result",
          "data": {
            "text/plain": [
              "'etakccss'"
            ],
            "application/vnd.google.colaboratory.intrinsic+json": {
              "type": "string"
            }
          },
          "metadata": {},
          "execution_count": 51
        }
      ]
    },
    {
      "cell_type": "code",
      "execution_count": 62,
      "metadata": {
        "colab": {
          "base_uri": "https://localhost:8080/"
        },
        "id": "LyGIrXgswBeI",
        "outputId": "fd150f4d-4946-4f20-8d97-9638b0535c14"
      },
      "outputs": [
        {
          "output_type": "stream",
          "name": "stdout",
          "text": [
            "[10]\n"
          ]
        }
      ],
      "source": [
        "def extendList(val, list=[]):\n",
        "    list.append(val)\n",
        "    return list\n",
        "\n",
        "\n",
        "list1 = extendList(10)\n",
        "print(list1)\n",
        "list2 = extendList(123,[])\n",
        "list3 = extendList('a')  # pass an empty list always"
      ]
    },
    {
      "cell_type": "code",
      "execution_count": 53,
      "metadata": {
        "colab": {
          "base_uri": "https://localhost:8080/"
        },
        "id": "1n6BNgAXxS0y",
        "outputId": "82741b24-2d76-4d06-a619-c1c9c1ba599a"
      },
      "outputs": [
        {
          "output_type": "stream",
          "name": "stdout",
          "text": [
            "[10, 'a']\n",
            "[123]\n",
            "[10, 'a']\n"
          ]
        }
      ],
      "source": [
        "print(list1)\n",
        "print(list2)\n",
        "print(list3)"
      ]
    },
    {
      "cell_type": "code",
      "execution_count": 54,
      "metadata": {
        "colab": {
          "base_uri": "https://localhost:8080/"
        },
        "id": "xcIPn2EvxTbn",
        "outputId": "57770aa3-4b99-421e-d5f1-6afae62f706a"
      },
      "outputs": [
        {
          "output_type": "stream",
          "name": "stdout",
          "text": [
            "1 1 1\n"
          ]
        }
      ],
      "source": [
        "class Parent(object):\n",
        "    x = 1\n",
        "\n",
        "class Child1(Parent):\n",
        "    pass\n",
        "\n",
        "class Child2(Parent):\n",
        "    pass\n",
        "\n",
        "print (  Parent.x, Child1.x, Child2.x)"
      ]
    },
    {
      "cell_type": "code",
      "execution_count": 55,
      "metadata": {
        "colab": {
          "base_uri": "https://localhost:8080/"
        },
        "id": "uRg_rli2yZjz",
        "outputId": "052dc7e6-a43c-47ea-bf5c-b9fb2bb96ed5"
      },
      "outputs": [
        {
          "output_type": "stream",
          "name": "stdout",
          "text": [
            "1 2 1\n"
          ]
        }
      ],
      "source": [
        "Child1.x = 2\n",
        "print (Parent.x, Child1.x, Child2.x)\n"
      ]
    },
    {
      "cell_type": "code",
      "execution_count": 56,
      "metadata": {
        "colab": {
          "base_uri": "https://localhost:8080/"
        },
        "id": "przYKw_MydcX",
        "outputId": "1933b1c6-7e02-4c10-d24d-156f9fe6ddee"
      },
      "outputs": [
        {
          "output_type": "stream",
          "name": "stdout",
          "text": [
            "3 2 3\n"
          ]
        }
      ],
      "source": [
        "Parent.x = 3\n",
        "print (  Parent.x, Child1.x, Child2.x)"
      ]
    },
    {
      "cell_type": "markdown",
      "source": [
        "## Prime \n",
        "# without recursion\n",
        "- After testing with 2,3,5,7\n",
        "### TODO - https://www.geeksforgeeks.org/prime-numbers/  6n+1, 6n-1 "
      ],
      "metadata": {
        "id": "ufCpM7L8qDBh"
      }
    },
    {
      "cell_type": "code",
      "execution_count": 57,
      "metadata": {
        "id": "0731G02XyjX1"
      },
      "outputs": [],
      "source": [
        "def is_prime(number):\n",
        "  divi = 1\n",
        "  if (not number % 2) | (number < 3) :\n",
        "    print('Not a prime')\n",
        "    return \n",
        "  while divi < (number//3) +3:\n",
        "    if (divi>10) & ( (not divi % 2) | (not divi % 3) |  (not divi % 5) | (not divi % 7)):\n",
        "        divi += 1\n",
        "        continue  \n",
        "    print('divi:',divi, end=',')\n",
        "    if (not number % divi):\n",
        "      print('\\nNot a prime')\n",
        "      return\n",
        "    divi += 1\n",
        "\n",
        "  \n",
        "  print('\\nA prime')"
      ]
    },
    {
      "cell_type": "code",
      "execution_count": 58,
      "metadata": {
        "colab": {
          "base_uri": "https://localhost:8080/"
        },
        "id": "Wz1X1qH30PtQ",
        "outputId": "4fbe9f75-62be-46df-e4e3-9ace93401df5"
      },
      "outputs": [
        {
          "output_type": "stream",
          "name": "stdout",
          "text": [
            "169\n",
            "divi: 1,\n",
            "Not a prime\n"
          ]
        }
      ],
      "source": [
        "number = \t169\n",
        "print(number)\n",
        "is_prime(number)"
      ]
    },
    {
      "cell_type": "markdown",
      "metadata": {
        "id": "QzcsWGS22Zjt"
      },
      "source": [
        "# Fibonacci\n"
      ]
    },
    {
      "cell_type": "code",
      "source": [
        "if  not 10 % 2:\n",
        "  print('yes')"
      ],
      "metadata": {
        "colab": {
          "base_uri": "https://localhost:8080/"
        },
        "id": "aJaBa-uDRb28",
        "outputId": "2f3f5af2-1c22-4393-916d-48135704d015"
      },
      "execution_count": 59,
      "outputs": [
        {
          "output_type": "stream",
          "name": "stdout",
          "text": [
            "yes\n"
          ]
        }
      ]
    },
    {
      "cell_type": "code",
      "execution_count": 63,
      "metadata": {
        "colab": {
          "base_uri": "https://localhost:8080/"
        },
        "id": "ZqLO96_O1bU_",
        "outputId": "dc60a3c5-fcd8-4897-fa0e-d21d7ec71008"
      },
      "outputs": [
        {
          "output_type": "stream",
          "name": "stdout",
          "text": [
            "0\n"
          ]
        }
      ],
      "source": [
        "print(0)\n",
        "def print_fibo(first, second,i):\n",
        "  if i >= 10:\n",
        "    return\n",
        "  temp = first\n",
        "  first = second\n",
        "  second = first + temp \n",
        "  print( second )\n",
        "  i +=1\n",
        "  print_fibo(first, second, i)"
      ]
    },
    {
      "cell_type": "code",
      "source": [
        "print(0)\n",
        "print_fibo(0,1,1)"
      ],
      "metadata": {
        "colab": {
          "base_uri": "https://localhost:8080/"
        },
        "id": "qmlr-eFGQzUI",
        "outputId": "a45471b1-422c-4461-814e-d7be7e1158a5"
      },
      "execution_count": 64,
      "outputs": [
        {
          "output_type": "stream",
          "name": "stdout",
          "text": [
            "0\n",
            "1\n",
            "2\n",
            "3\n",
            "5\n",
            "8\n",
            "13\n",
            "21\n",
            "34\n",
            "55\n"
          ]
        }
      ]
    },
    {
      "cell_type": "code",
      "source": [],
      "metadata": {
        "id": "eDEiZEEuNJjc"
      },
      "execution_count": 61,
      "outputs": []
    }
  ],
  "metadata": {
    "colab": {
      "provenance": [],
      "authorship_tag": "ABX9TyM/zLjxi162ExoU3rXLuDrh",
      "include_colab_link": true
    },
    "kernelspec": {
      "display_name": "Python 3",
      "name": "python3"
    },
    "language_info": {
      "name": "python"
    }
  },
  "nbformat": 4,
  "nbformat_minor": 0
}