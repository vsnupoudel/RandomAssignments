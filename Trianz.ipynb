{
  "cells": [
    {
      "cell_type": "markdown",
      "metadata": {
        "id": "view-in-github",
        "colab_type": "text"
      },
      "source": [
        "<a href=\"https://colab.research.google.com/github/vsnupoudel/RandomAssignments/blob/main/Trianz.ipynb\" target=\"_parent\"><img src=\"https://colab.research.google.com/assets/colab-badge.svg\" alt=\"Open In Colab\"/></a>"
      ]
    },
    {
      "cell_type": "code",
      "execution_count": 1,
      "metadata": {
        "id": "MihFHihMroVa"
      },
      "outputs": [],
      "source": [
        "strs = \"csestack\"\n",
        "\n",
        "dicts = {}\n",
        "for c in strs:\n",
        "    if c in dicts:\n",
        "      dicts[c] +=1\n",
        "    else:\n",
        "      dicts[c] = 1\n"
      ]
    },
    {
      "cell_type": "code",
      "execution_count": 2,
      "metadata": {
        "colab": {
          "base_uri": "https://localhost:8080/"
        },
        "id": "FDqealKvvSxE",
        "outputId": "23ae8323-76fa-49d8-df82-13ee8bcdc5f6"
      },
      "outputs": [
        {
          "output_type": "execute_result",
          "data": {
            "text/plain": [
              "['c', 's', 'e', 't', 'a', 'k']"
            ]
          },
          "metadata": {},
          "execution_count": 2
        }
      ],
      "source": [
        "list( dicts.keys() )"
      ]
    },
    {
      "cell_type": "code",
      "execution_count": 3,
      "metadata": {
        "colab": {
          "base_uri": "https://localhost:8080/"
        },
        "id": "Wj6G1KsXvalx",
        "outputId": "945779fa-8581-4a06-d6fd-61635644eb80"
      },
      "outputs": [
        {
          "output_type": "execute_result",
          "data": {
            "text/plain": [
              "{'c': 2, 's': 2, 'e': 1, 't': 1, 'a': 1, 'k': 1}"
            ]
          },
          "metadata": {},
          "execution_count": 3
        }
      ],
      "source": [
        "dicts"
      ]
    },
    {
      "cell_type": "code",
      "execution_count": 4,
      "metadata": {
        "id": "HstMtFd8vwqn"
      },
      "outputs": [],
      "source": [
        "# dicts.sort()"
      ]
    },
    {
      "cell_type": "code",
      "execution_count": 5,
      "metadata": {
        "colab": {
          "base_uri": "https://localhost:8080/",
          "height": 130
        },
        "id": "x_ZReBs2v_2_",
        "outputId": "fb0d1b67-1b6e-4449-dcb4-6c907f101f8c"
      },
      "outputs": [
        {
          "output_type": "error",
          "ename": "SyntaxError",
          "evalue": "ignored",
          "traceback": [
            "\u001b[0;36m  File \u001b[0;32m\"<ipython-input-5-2872a2552fdb>\"\u001b[0;36m, line \u001b[0;32m3\u001b[0m\n\u001b[0;31m    string+=\u001b[0m\n\u001b[0m            ^\u001b[0m\n\u001b[0;31mSyntaxError\u001b[0m\u001b[0;31m:\u001b[0m invalid syntax\n"
          ]
        }
      ],
      "source": [
        "string=''\n",
        "for k,v in dicts.items():  #sorted ascending\n",
        "  string+="
      ]
    },
    {
      "cell_type": "code",
      "execution_count": 6,
      "metadata": {
        "colab": {
          "base_uri": "https://localhost:8080/"
        },
        "id": "LyGIrXgswBeI",
        "outputId": "984a05b8-c093-4ed8-cd62-c67f2ca2a70f"
      },
      "outputs": [
        {
          "output_type": "stream",
          "name": "stdout",
          "text": [
            "[10]\n"
          ]
        }
      ],
      "source": [
        "def extendList(val, list=[]):\n",
        "    list.append(val)\n",
        "    return list\n",
        "\n",
        "\n",
        "list1 = extendList(10)\n",
        "print(list1)\n",
        "list2 = extendList(123,[])\n",
        "list3 = extendList('a')"
      ]
    },
    {
      "cell_type": "code",
      "execution_count": 7,
      "metadata": {
        "colab": {
          "base_uri": "https://localhost:8080/"
        },
        "id": "1n6BNgAXxS0y",
        "outputId": "c60b12cf-398f-4ed3-d5d7-a78edaf01f7a"
      },
      "outputs": [
        {
          "output_type": "stream",
          "name": "stdout",
          "text": [
            "[10, 'a']\n",
            "[123]\n",
            "[10, 'a']\n"
          ]
        }
      ],
      "source": [
        "print(list1)\n",
        "print(list2)\n",
        "print(list3)"
      ]
    },
    {
      "cell_type": "code",
      "execution_count": 8,
      "metadata": {
        "colab": {
          "base_uri": "https://localhost:8080/"
        },
        "id": "xcIPn2EvxTbn",
        "outputId": "f8b6cb28-1f65-4d52-f764-b98d670e78ba"
      },
      "outputs": [
        {
          "output_type": "stream",
          "name": "stdout",
          "text": [
            "1 1 1\n"
          ]
        }
      ],
      "source": [
        "class Parent(object):\n",
        "    x = 1\n",
        "\n",
        "class Child1(Parent):\n",
        "    pass\n",
        "\n",
        "class Child2(Parent):\n",
        "    pass\n",
        "\n",
        "print (  Parent.x, Child1.x, Child2.x)"
      ]
    },
    {
      "cell_type": "code",
      "execution_count": 9,
      "metadata": {
        "colab": {
          "base_uri": "https://localhost:8080/"
        },
        "id": "uRg_rli2yZjz",
        "outputId": "b9ecc7f1-82ad-41c4-c97c-7c0e17e350d2"
      },
      "outputs": [
        {
          "output_type": "stream",
          "name": "stdout",
          "text": [
            "1 2 1\n"
          ]
        }
      ],
      "source": [
        "Child1.x = 2\n",
        "print (Parent.x, Child1.x, Child2.x)\n"
      ]
    },
    {
      "cell_type": "code",
      "execution_count": 10,
      "metadata": {
        "colab": {
          "base_uri": "https://localhost:8080/"
        },
        "id": "przYKw_MydcX",
        "outputId": "a9cd62dc-0197-4caf-f323-70f9f0a2c462"
      },
      "outputs": [
        {
          "output_type": "stream",
          "name": "stdout",
          "text": [
            "3 2 3\n"
          ]
        }
      ],
      "source": [
        "Parent.x = 3\n",
        "print (  Parent.x, Child1.x, Child2.x)"
      ]
    },
    {
      "cell_type": "markdown",
      "source": [
        "## Prime \n",
        "# without recursion"
      ],
      "metadata": {
        "id": "ufCpM7L8qDBh"
      }
    },
    {
      "cell_type": "code",
      "execution_count": 148,
      "metadata": {
        "id": "0731G02XyjX1"
      },
      "outputs": [],
      "source": [
        "def is_prime(number):\n",
        "  divi = 1\n",
        "  if (not number % 2) | (number < 3) :\n",
        "    print('Not a prime')\n",
        "    return \n",
        "  while divi < (number//3) +3:\n",
        "    if (divi>10) & ( (not divi % 2) | (not divi % 3) |  (not divi % 5) | (not divi % 7)):\n",
        "        divi += 1\n",
        "        continue  \n",
        "    print('divi:',divi, end=',')\n",
        "    if (not number % divi):\n",
        "      print('\\nNot a prime')\n",
        "      return\n",
        "    divi += 1\n",
        "\n",
        "  \n",
        "  print('\\nA prime')"
      ]
    },
    {
      "cell_type": "code",
      "execution_count": 150,
      "metadata": {
        "colab": {
          "base_uri": "https://localhost:8080/"
        },
        "id": "Wz1X1qH30PtQ",
        "outputId": "227e1c22-a8b8-4d79-deb1-ad1bff5dd9de"
      },
      "outputs": [
        {
          "output_type": "stream",
          "name": "stdout",
          "text": [
            "169\n",
            "divi: 1,\n",
            "Not a prime\n"
          ]
        }
      ],
      "source": [
        "number = \t169\n",
        "print(number)\n",
        "is_prime(number)"
      ]
    },
    {
      "cell_type": "markdown",
      "metadata": {
        "id": "QzcsWGS22Zjt"
      },
      "source": [
        "# Fibonacci\n"
      ]
    },
    {
      "cell_type": "code",
      "source": [
        "if  not 10 % 2:\n",
        "  print('yes')"
      ],
      "metadata": {
        "colab": {
          "base_uri": "https://localhost:8080/"
        },
        "id": "aJaBa-uDRb28",
        "outputId": "f6c34d02-91a1-4617-cde5-3f599edde83a"
      },
      "execution_count": 151,
      "outputs": [
        {
          "output_type": "stream",
          "name": "stdout",
          "text": [
            "yes\n"
          ]
        }
      ]
    },
    {
      "cell_type": "code",
      "execution_count": 164,
      "metadata": {
        "colab": {
          "base_uri": "https://localhost:8080/"
        },
        "id": "ZqLO96_O1bU_",
        "outputId": "15872ad0-906c-4393-8d4e-88dce144ce03"
      },
      "outputs": [
        {
          "output_type": "stream",
          "name": "stdout",
          "text": [
            "0\n"
          ]
        }
      ],
      "source": [
        "i = 0\n",
        "print(0)\n",
        "def print_fibo(first, second,i):\n",
        "  if i >= 20:\n",
        "    return\n",
        "  temp = first\n",
        "  first = second\n",
        "  second = first + temp \n",
        "  print( second )\n",
        "  i +=1\n",
        "  # print('i',i)\n",
        "  print_fibo(first, second, i)\n"
      ]
    },
    {
      "cell_type": "code",
      "source": [
        "print(0)\n",
        "print_fibo(0,1,1)"
      ],
      "metadata": {
        "colab": {
          "base_uri": "https://localhost:8080/"
        },
        "id": "qmlr-eFGQzUI",
        "outputId": "e6719e0c-3e66-4e02-e465-c0a46457e064"
      },
      "execution_count": 165,
      "outputs": [
        {
          "output_type": "stream",
          "name": "stdout",
          "text": [
            "0\n",
            "1\n",
            "2\n",
            "3\n",
            "5\n",
            "8\n",
            "13\n",
            "21\n",
            "34\n",
            "55\n",
            "89\n",
            "144\n",
            "233\n",
            "377\n",
            "610\n",
            "987\n",
            "1597\n",
            "2584\n",
            "4181\n",
            "6765\n"
          ]
        }
      ]
    },
    {
      "cell_type": "code",
      "source": [],
      "metadata": {
        "id": "GuFAmCIYgAHq"
      },
      "execution_count": null,
      "outputs": []
    }
  ],
  "metadata": {
    "colab": {
      "provenance": [],
      "authorship_tag": "ABX9TyMvXIxmueG7JVFj+r+q2QT1",
      "include_colab_link": true
    },
    "kernelspec": {
      "display_name": "Python 3",
      "name": "python3"
    },
    "language_info": {
      "name": "python"
    }
  },
  "nbformat": 4,
  "nbformat_minor": 0
}