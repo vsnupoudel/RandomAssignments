{
  "cells": [
    {
      "cell_type": "markdown",
      "metadata": {
        "id": "view-in-github",
        "colab_type": "text"
      },
      "source": [
        "<a href=\"https://colab.research.google.com/github/vsnupoudel/RandomAssignments/blob/main/Trianz.ipynb\" target=\"_parent\"><img src=\"https://colab.research.google.com/assets/colab-badge.svg\" alt=\"Open In Colab\"/></a>"
      ]
    },
    {
      "cell_type": "code",
      "execution_count": 3,
      "metadata": {
        "id": "MihFHihMroVa"
      },
      "outputs": [],
      "source": [
        "strs = \"csestack\"\n",
        "\n",
        "dicts = {}\n",
        "for c in strs:\n",
        "    if c in dicts:\n",
        "      dicts[c] +=1\n",
        "    else:\n",
        "      dicts[c] = 1\n"
      ]
    },
    {
      "cell_type": "code",
      "execution_count": 4,
      "metadata": {
        "colab": {
          "base_uri": "https://localhost:8080/"
        },
        "id": "FDqealKvvSxE",
        "outputId": "4258ba00-9521-488a-f16e-d3efe58a4f59"
      },
      "outputs": [
        {
          "output_type": "execute_result",
          "data": {
            "text/plain": [
              "['c', 's', 'e', 't', 'a', 'k']"
            ]
          },
          "metadata": {},
          "execution_count": 4
        }
      ],
      "source": [
        "list( dicts.keys() )"
      ]
    },
    {
      "cell_type": "code",
      "execution_count": 7,
      "metadata": {
        "id": "Wj6G1KsXvalx"
      },
      "outputs": [],
      "source": [
        "dicts_sorted = dict(sorted(dicts.items(), key=lambda item: item[1]))"
      ]
    },
    {
      "cell_type": "code",
      "execution_count": 13,
      "metadata": {
        "id": "HstMtFd8vwqn"
      },
      "outputs": [],
      "source": [
        "def append_keys(k,v):\n",
        "  return k*v"
      ]
    },
    {
      "cell_type": "code",
      "source": [
        "di = list(  map(lambda k: k[0]*k[1] , dicts_sorted.items())  )\n",
        "di"
      ],
      "metadata": {
        "colab": {
          "base_uri": "https://localhost:8080/"
        },
        "id": "h-1OpFlaLe1G",
        "outputId": "56287fdc-d0bc-40a6-e938-29eac2b51867"
      },
      "execution_count": 44,
      "outputs": [
        {
          "output_type": "execute_result",
          "data": {
            "text/plain": [
              "['e', 't', 'a', 'k', 'cc', 'ss']"
            ]
          },
          "metadata": {},
          "execution_count": 44
        }
      ]
    },
    {
      "cell_type": "code",
      "source": [
        "''.join(di)"
      ],
      "metadata": {
        "colab": {
          "base_uri": "https://localhost:8080/",
          "height": 36
        },
        "id": "ulIkzd4eN165",
        "outputId": "c5f1c673-6001-463e-a8d5-aa833a755c84"
      },
      "execution_count": 45,
      "outputs": [
        {
          "output_type": "execute_result",
          "data": {
            "text/plain": [
              "'etakccss'"
            ],
            "application/vnd.google.colaboratory.intrinsic+json": {
              "type": "string"
            }
          },
          "metadata": {},
          "execution_count": 45
        }
      ]
    },
    {
      "cell_type": "code",
      "execution_count": null,
      "metadata": {
        "colab": {
          "base_uri": "https://localhost:8080/"
        },
        "id": "LyGIrXgswBeI",
        "outputId": "984a05b8-c093-4ed8-cd62-c67f2ca2a70f"
      },
      "outputs": [
        {
          "output_type": "stream",
          "name": "stdout",
          "text": [
            "[10]\n"
          ]
        }
      ],
      "source": [
        "def extendList(val, list=[]):\n",
        "    list.append(val)\n",
        "    return list\n",
        "\n",
        "\n",
        "list1 = extendList(10)\n",
        "print(list1)\n",
        "list2 = extendList(123,[])\n",
        "list3 = extendList('a')"
      ]
    },
    {
      "cell_type": "code",
      "execution_count": null,
      "metadata": {
        "colab": {
          "base_uri": "https://localhost:8080/"
        },
        "id": "1n6BNgAXxS0y",
        "outputId": "c60b12cf-398f-4ed3-d5d7-a78edaf01f7a"
      },
      "outputs": [
        {
          "output_type": "stream",
          "name": "stdout",
          "text": [
            "[10, 'a']\n",
            "[123]\n",
            "[10, 'a']\n"
          ]
        }
      ],
      "source": [
        "print(list1)\n",
        "print(list2)\n",
        "print(list3)"
      ]
    },
    {
      "cell_type": "code",
      "execution_count": null,
      "metadata": {
        "colab": {
          "base_uri": "https://localhost:8080/"
        },
        "id": "xcIPn2EvxTbn",
        "outputId": "f8b6cb28-1f65-4d52-f764-b98d670e78ba"
      },
      "outputs": [
        {
          "output_type": "stream",
          "name": "stdout",
          "text": [
            "1 1 1\n"
          ]
        }
      ],
      "source": [
        "class Parent(object):\n",
        "    x = 1\n",
        "\n",
        "class Child1(Parent):\n",
        "    pass\n",
        "\n",
        "class Child2(Parent):\n",
        "    pass\n",
        "\n",
        "print (  Parent.x, Child1.x, Child2.x)"
      ]
    },
    {
      "cell_type": "code",
      "execution_count": null,
      "metadata": {
        "colab": {
          "base_uri": "https://localhost:8080/"
        },
        "id": "uRg_rli2yZjz",
        "outputId": "b9ecc7f1-82ad-41c4-c97c-7c0e17e350d2"
      },
      "outputs": [
        {
          "output_type": "stream",
          "name": "stdout",
          "text": [
            "1 2 1\n"
          ]
        }
      ],
      "source": [
        "Child1.x = 2\n",
        "print (Parent.x, Child1.x, Child2.x)\n"
      ]
    },
    {
      "cell_type": "code",
      "execution_count": null,
      "metadata": {
        "colab": {
          "base_uri": "https://localhost:8080/"
        },
        "id": "przYKw_MydcX",
        "outputId": "a9cd62dc-0197-4caf-f323-70f9f0a2c462"
      },
      "outputs": [
        {
          "output_type": "stream",
          "name": "stdout",
          "text": [
            "3 2 3\n"
          ]
        }
      ],
      "source": [
        "Parent.x = 3\n",
        "print (  Parent.x, Child1.x, Child2.x)"
      ]
    },
    {
      "cell_type": "markdown",
      "source": [
        "## Prime \n",
        "# without recursion\n",
        "- After testing with 2,3,5,7\n",
        "### TODO - https://www.geeksforgeeks.org/prime-numbers/  6n+1, 6n-1 "
      ],
      "metadata": {
        "id": "ufCpM7L8qDBh"
      }
    },
    {
      "cell_type": "code",
      "execution_count": null,
      "metadata": {
        "id": "0731G02XyjX1"
      },
      "outputs": [],
      "source": [
        "def is_prime(number):\n",
        "  divi = 1\n",
        "  if (not number % 2) | (number < 3) :\n",
        "    print('Not a prime')\n",
        "    return \n",
        "  while divi < (number//3) +3:\n",
        "    if (divi>10) & ( (not divi % 2) | (not divi % 3) |  (not divi % 5) | (not divi % 7)):\n",
        "        divi += 1\n",
        "        continue  \n",
        "    print('divi:',divi, end=',')\n",
        "    if (not number % divi):\n",
        "      print('\\nNot a prime')\n",
        "      return\n",
        "    divi += 1\n",
        "\n",
        "  \n",
        "  print('\\nA prime')"
      ]
    },
    {
      "cell_type": "code",
      "execution_count": null,
      "metadata": {
        "colab": {
          "base_uri": "https://localhost:8080/"
        },
        "id": "Wz1X1qH30PtQ",
        "outputId": "15a0ca90-7ce5-49dd-bd3e-9d265468ee82"
      },
      "outputs": [
        {
          "output_type": "stream",
          "name": "stdout",
          "text": [
            "169\n",
            "divi: 1,\n",
            "Not a prime\n"
          ]
        }
      ],
      "source": [
        "number = \t169\n",
        "print(number)\n",
        "is_prime(number)"
      ]
    },
    {
      "cell_type": "markdown",
      "metadata": {
        "id": "QzcsWGS22Zjt"
      },
      "source": [
        "# Fibonacci\n"
      ]
    },
    {
      "cell_type": "code",
      "source": [
        "if  not 10 % 2:\n",
        "  print('yes')"
      ],
      "metadata": {
        "colab": {
          "base_uri": "https://localhost:8080/"
        },
        "id": "aJaBa-uDRb28",
        "outputId": "5e6263fc-425f-4873-b86e-83eb14b91e78"
      },
      "execution_count": null,
      "outputs": [
        {
          "output_type": "stream",
          "name": "stdout",
          "text": [
            "yes\n"
          ]
        }
      ]
    },
    {
      "cell_type": "code",
      "execution_count": null,
      "metadata": {
        "colab": {
          "base_uri": "https://localhost:8080/"
        },
        "id": "ZqLO96_O1bU_",
        "outputId": "eadf1c77-6456-4090-a57c-8977c90a7b10"
      },
      "outputs": [
        {
          "output_type": "stream",
          "name": "stdout",
          "text": [
            "0\n"
          ]
        }
      ],
      "source": [
        "i = 0\n",
        "print(0)\n",
        "def print_fibo(first, second,i):\n",
        "  if i >= 10:\n",
        "    return\n",
        "  temp = first\n",
        "  first = second\n",
        "  second = first + temp \n",
        "  print( second )\n",
        "  i +=1\n",
        "  # print('i',i)\n",
        "  print_fibo(first, second, i)\n"
      ]
    },
    {
      "cell_type": "code",
      "source": [
        "print(0)\n",
        "print_fibo(0,1,1)"
      ],
      "metadata": {
        "colab": {
          "base_uri": "https://localhost:8080/"
        },
        "id": "qmlr-eFGQzUI",
        "outputId": "d7825447-269b-4633-d462-f6b1e780f2a2"
      },
      "execution_count": null,
      "outputs": [
        {
          "output_type": "stream",
          "name": "stdout",
          "text": [
            "0\n",
            "1\n",
            "2\n",
            "3\n",
            "5\n",
            "8\n",
            "13\n",
            "21\n",
            "34\n",
            "55\n"
          ]
        }
      ]
    },
    {
      "cell_type": "code",
      "source": [],
      "metadata": {
        "id": "eDEiZEEuNJjc"
      },
      "execution_count": null,
      "outputs": []
    }
  ],
  "metadata": {
    "colab": {
      "provenance": [],
      "authorship_tag": "ABX9TyPZgjSTmDNHBpH1NUKM9CfD",
      "include_colab_link": true
    },
    "kernelspec": {
      "display_name": "Python 3",
      "name": "python3"
    },
    "language_info": {
      "name": "python"
    }
  },
  "nbformat": 4,
  "nbformat_minor": 0
}