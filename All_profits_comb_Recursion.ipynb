{
  "nbformat": 4,
  "nbformat_minor": 0,
  "metadata": {
    "colab": {
      "name": "All_profits_comb_Recursion.ipynb",
      "provenance": [],
      "collapsed_sections": [],
      "authorship_tag": "ABX9TyNJ2ngd/1qCI7Z5XWNiJinB",
      "include_colab_link": true
    },
    "kernelspec": {
      "name": "python3",
      "display_name": "Python 3"
    },
    "language_info": {
      "name": "python"
    }
  },
  "cells": [
    {
      "cell_type": "markdown",
      "metadata": {
        "id": "view-in-github",
        "colab_type": "text"
      },
      "source": [
        "<a href=\"https://colab.research.google.com/github/vsnupoudel/RandomAssignments/blob/main/All_profits_comb_Recursion.ipynb\" target=\"_parent\"><img src=\"https://colab.research.google.com/assets/colab-badge.svg\" alt=\"Open In Colab\"/></a>"
      ]
    },
    {
      "cell_type": "code",
      "metadata": {
        "colab": {
          "base_uri": "https://localhost:8080/"
        },
        "id": "btqUSKSEznT6",
        "outputId": "f713d49a-e743-476c-8be2-6f4826b07374"
      },
      "source": [
        "import itertools\n",
        "import numpy as np\n",
        "input = [3, 13, 15]\n",
        "\n",
        "def combination_of_sums(N, X, Y):\n",
        "    \"\"\" N: Number of transactions\n",
        "        X: Minimum profit\n",
        "        Y: Maximum profit\n",
        "    \"\"\"\n",
        "    listof = list( range(X,Y+1) )\n",
        "    co = itertools.combinations_with_replacement(listof, N)\n",
        "    sums = set( [np.sum(tup) for tup in co] )\n",
        "    print(sums)\n",
        "    return len(sums)\n",
        "\n",
        "\n",
        "   \n",
        "print( combination_of_sums(3,13,15) )"
      ],
      "execution_count": 4,
      "outputs": [
        {
          "output_type": "stream",
          "name": "stdout",
          "text": [
            "{39, 40, 41, 42, 43, 44, 45}\n",
            "7\n"
          ]
        }
      ]
    },
    {
      "cell_type": "code",
      "metadata": {
        "colab": {
          "base_uri": "https://localhost:8080/"
        },
        "id": "ziZma-Hmz-3Q",
        "outputId": "4f353c69-c6c5-4f17-fee8-8453ab1808a0"
      },
      "source": [
        "\n",
        "\n",
        "# 2nd\n",
        "\n",
        "import itertools\n",
        "import numpy as np\n",
        "\n",
        "def number_of_jars(A, C, K):\n",
        "    \"\"\" A: Numbers of a number line\n",
        "        C: Maximum items in a jar\n",
        "        K: Maximum difference of numbers in a jar ( max range)\n",
        "    Return:\n",
        "        Number of Jars\n",
        "    \"\"\"\n",
        "    jars = []\n",
        "    for j in A:\n",
        "        if A:\n",
        "            jar = []\n",
        "            for num in A:\n",
        "                jar.append(num)\n",
        "            while np.max(jar) - np.min(jar) > K:\n",
        "                jar.remove(np.max(jar))\n",
        "            while len(jar)>C:\n",
        "                jar.remove(np.max(jar))\n",
        "               \n",
        "            B = [a for a in A if a not in jar]\n",
        "            A = B\n",
        "            jars.append(jar)\n",
        "        else:\n",
        "            break\n",
        "       \n",
        "    print(jars)\n",
        "    return len(jars)\n",
        "\n",
        "number_of_jars([1,2,3,5,7,9,12], 3, 3)"
      ],
      "execution_count": 3,
      "outputs": [
        {
          "output_type": "stream",
          "name": "stdout",
          "text": [
            "[[1, 2, 3], [5, 7], [9, 12]]\n"
          ]
        },
        {
          "output_type": "execute_result",
          "data": {
            "text/plain": [
              "3"
            ]
          },
          "metadata": {},
          "execution_count": 3
        }
      ]
    },
    {
      "cell_type": "markdown",
      "metadata": {
        "id": "9zhgOR9_0qMh"
      },
      "source": [
        "## Using recursion or while for 1"
      ]
    },
    {
      "cell_type": "code",
      "metadata": {
        "id": "5vB2zmFG0Ceo"
      },
      "source": [
        "import numpy as np\n",
        "input = [3, 13, 15]\n",
        "\n",
        "def combination_of_sums(N, X, Y):\n",
        "    \"\"\" N: Number of transactions\n",
        "        X: Minimum profit\n",
        "        Y: Maximum profit\n",
        "    \"\"\"\n",
        "    listof = list( range(X,Y+1) )\n",
        "    # co = itertools.combinations_with_replacement(listof, N)\n",
        "    # sums = set( [np.sum(tup) for tup in co] )\n",
        "    sums = []\n",
        "    # np.random.seed(1)\n",
        "    def sum_N(list_):\n",
        "      sum1 = np.sum( [ listof[ np.random.randint(0,len(listof))] for i in range(N) ])\n",
        "      sums.append(sum1)\n",
        "    \n",
        "    for i in range(9999):\n",
        "      sum_N(listof)\n",
        "    \n",
        "    sums = set(sums)\n",
        "\n",
        "    print(sums)\n",
        "    return len(sums)"
      ],
      "execution_count": 19,
      "outputs": []
    },
    {
      "cell_type": "code",
      "metadata": {
        "colab": {
          "base_uri": "https://localhost:8080/"
        },
        "id": "KuRBNT2G4q8m",
        "outputId": "45b7ee7b-2ed1-44a3-f143-fc60850d345f"
      },
      "source": [
        "combination_of_sums(3,13,15)"
      ],
      "execution_count": 20,
      "outputs": [
        {
          "output_type": "stream",
          "name": "stdout",
          "text": [
            "{39, 40, 41, 42, 43, 44, 45}\n"
          ]
        },
        {
          "output_type": "execute_result",
          "data": {
            "text/plain": [
              "7"
            ]
          },
          "metadata": {},
          "execution_count": 20
        }
      ]
    },
    {
      "cell_type": "code",
      "metadata": {
        "id": "iz1tP-8R4wbs"
      },
      "source": [
        "# for i in range(999):\n",
        "#   if np.random.randint(0,10) == 10:\n",
        "#     print(i)"
      ],
      "execution_count": 24,
      "outputs": []
    },
    {
      "cell_type": "code",
      "metadata": {
        "id": "-4PUOD9h5muM"
      },
      "source": [
        ""
      ],
      "execution_count": null,
      "outputs": []
    }
  ]
}