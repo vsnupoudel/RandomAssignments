{
  "nbformat": 4,
  "nbformat_minor": 0,
  "metadata": {
    "colab": {
      "name": "DataFrame vs Loop.ipynb",
      "provenance": [],
      "collapsed_sections": [],
      "authorship_tag": "ABX9TyM1sFUaQNr46UZjyGanSmB0",
      "include_colab_link": true
    },
    "kernelspec": {
      "name": "python3",
      "display_name": "Python 3"
    },
    "language_info": {
      "name": "python"
    }
  },
  "cells": [
    {
      "cell_type": "markdown",
      "metadata": {
        "id": "view-in-github",
        "colab_type": "text"
      },
      "source": [
        "<a href=\"https://colab.research.google.com/github/vsnupoudel/RandomAssignments/blob/main/DataFrame_vs_Loop.ipynb\" target=\"_parent\"><img src=\"https://colab.research.google.com/assets/colab-badge.svg\" alt=\"Open In Colab\"/></a>"
      ]
    },
    {
      "cell_type": "markdown",
      "metadata": {
        "id": "H9CGmI2SKfWi"
      },
      "source": [
        "## Read in code in image"
      ]
    },
    {
      "cell_type": "code",
      "metadata": {
        "id": "HZfVLvWbOh00"
      },
      "source": [
        "# Use pandas to Auto Detect the Date and Time\n",
        "import pandas as pd\n",
        "date_arr = [ ['2021-09-07 8:15:27.243860',  'Sep 07 2021 7:40 AM' , 'September 07, 2021, 22:19:55'\n",
        ",'Sun, 07/12/2021, 12:30PM' , 'Mon, 07 September, 2021' , '2021-09-07T10:12:45Z' ,'2021-09-29 17:08:00.586525+00:00' \n",
        ", '2021-09-29 17:08:00.586525+00:00',' Tuesday, 7th September, 2021 at 4:30pm' ] for i in range(1000) ]\n",
        "\n",
        "import itertools\n",
        "\n",
        "date_array = list(itertools.chain.from_iterable(date_arr))"
      ],
      "execution_count": null,
      "outputs": []
    },
    {
      "cell_type": "markdown",
      "metadata": {
        "id": "MKcHkvaDT-mn"
      },
      "source": [
        "1. Dataframe way"
      ]
    },
    {
      "cell_type": "code",
      "metadata": {
        "colab": {
          "base_uri": "https://localhost:8080/"
        },
        "id": "ZYnKC_RJOlm4",
        "outputId": "cfdc891d-db02-46b9-abf6-e666800fd69f"
      },
      "source": [
        "# Put it as a dataframe object first \n",
        "date_df = pd.DataFrame( date_array, columns=['Date_Test'])\n",
        "import time\n",
        "start = time.process_time()\n",
        "# your code here  \n",
        "date_df['Date_Test'] = pd.to_datetime(date_df['Date_Test'])\n",
        "# new_array = date_df['Date_Test'] \n",
        "\n",
        "print(time.process_time() - start)"
      ],
      "execution_count": null,
      "outputs": [
        {
          "output_type": "stream",
          "name": "stdout",
          "text": [
            "0.009856589999998278\n"
          ]
        }
      ]
    },
    {
      "cell_type": "markdown",
      "metadata": {
        "id": "PEri1aAPUK1W"
      },
      "source": [
        "2. Datetime way"
      ]
    },
    {
      "cell_type": "code",
      "metadata": {
        "colab": {
          "base_uri": "https://localhost:8080/"
        },
        "id": "vDceGRb1QDtL",
        "outputId": "5ea4cd40-1e36-4b16-c271-ee0e5394117a"
      },
      "source": [
        "from datetime import datetime \n",
        "start = time.process_time()\n",
        "# your code here  \n",
        "from dateutil import parser\n",
        "parsed_list = [ parser.parse(date_string) for date_string in date_array ]\n",
        "# new_list = [  datetime(date_string) for date_string in parsed_list ]\n",
        "print(time.process_time() - start)"
      ],
      "execution_count": null,
      "outputs": [
        {
          "output_type": "stream",
          "name": "stdout",
          "text": [
            "1.0908115139999985\n"
          ]
        }
      ]
    },
    {
      "cell_type": "code",
      "metadata": {
        "id": "JB1bFjE3Y1qa"
      },
      "source": [
        ""
      ],
      "execution_count": null,
      "outputs": []
    }
  ]
}