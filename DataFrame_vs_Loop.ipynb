{
  "nbformat": 4,
  "nbformat_minor": 0,
  "metadata": {
    "colab": {
      "name": "DataFrame vs Loop.ipynb",
      "provenance": [],
      "collapsed_sections": [],
      "authorship_tag": "ABX9TyNJ8F/qaoLOTHeo1RcrK4ye",
      "include_colab_link": true
    },
    "kernelspec": {
      "name": "python3",
      "display_name": "Python 3"
    },
    "language_info": {
      "name": "python"
    }
  },
  "cells": [
    {
      "cell_type": "markdown",
      "metadata": {
        "id": "view-in-github",
        "colab_type": "text"
      },
      "source": [
        "<a href=\"https://colab.research.google.com/github/vsnupoudel/RandomAssignments/blob/main/DataFrame_vs_Loop.ipynb\" target=\"_parent\"><img src=\"https://colab.research.google.com/assets/colab-badge.svg\" alt=\"Open In Colab\"/></a>"
      ]
    },
    {
      "cell_type": "markdown",
      "metadata": {
        "id": "H9CGmI2SKfWi"
      },
      "source": [
        "## Read in code in image"
      ]
    },
    {
      "cell_type": "code",
      "metadata": {
        "id": "qMyuNaKaKOEJ"
      },
      "source": [
        "import requests\n",
        "def ocr_space( filename,overlay = True\n",
        "              ,api_key = '141a09305188957', language = 'eng'):\n",
        "\n",
        "  payload = {\n",
        "      'isOverlayRequired' : overlay,\n",
        "      'apikey': api_key,\n",
        "      'language': language,\n",
        "  }\n",
        "\n",
        "  with open(filename, 'rb') as f:\n",
        "    r = requests.post('https://api.ocr.space/parse/image',\n",
        "                      files = {filename : f},\n",
        "                      data = payload,\n",
        "                      )\n",
        "    return r.content.decode()"
      ],
      "execution_count": 1,
      "outputs": []
    },
    {
      "cell_type": "code",
      "metadata": {
        "id": "9vyFGZmaLuCp"
      },
      "source": [
        "FILENAME = '/content/AnyConv.com__1631003851112.jpg'"
      ],
      "execution_count": 6,
      "outputs": []
    },
    {
      "cell_type": "code",
      "metadata": {
        "colab": {
          "base_uri": "https://localhost:8080/"
        },
        "id": "kkxQDNhNKjD6",
        "outputId": "fb35e9ee-1bb1-4cb5-eeba-d3e34c5cf04d"
      },
      "source": [
        "import json\n",
        "json_output = json.loads( ocr_space(FILENAME\n",
        "                    , overlay= False))\n",
        "\n",
        "json_output\n"
      ],
      "execution_count": 7,
      "outputs": [
        {
          "output_type": "execute_result",
          "data": {
            "text/plain": [
              "{'IsErroredOnProcessing': False,\n",
              " 'OCRExitCode': 1,\n",
              " 'ParsedResults': [{'ErrorDetails': '',\n",
              "   'ErrorMessage': '',\n",
              "   'FileParseExitCode': 1,\n",
              "   'ParsedText': '# Use pandas to Auto Detect the Date and Time\\r\\nimport pandas as pd\\r\\ndate_array\\r\\n\\'2021-09-07 ,\\r\\n\\'Sep 07 2021 7:40\"\\' ,\\r\\n\\'September 07, 2021,\\r\\n\\'Sun, 07/12/2021, 12:30PM\\' ,\\r\\n\\'Mon, 07 September, 2021\\' ,\\r\\n\\'2021-09-07TIO: ,\\r\\n\\'2021-09-29 ,\\r\\n\\'2021-09-29 ,\\r\\n\\' Tuesday\\r\\n7th September, 2021 at 4:30pm\\'\\r\\nfor date _ time in date _ array:\\r\\nprint( date_time )\\r\\nprint( end=\"\\\\n\\\\n\" )\\r\\n# Disadvantage of using Pandas:\\r\\nPerformance\\r\\n# Use datettme Library for better performance\\r\\ndate_obj 1\\r\\ndate_obj2\\r\\ndate_obj3\\r\\ndate_obj4\\r\\ndate_obj5\\r\\ndate_obj6\\r\\nfrom\\r\\ndatettme import datettme\\r\\ndate_typel =\\r\\n\"2021-09-29\\r\\n= datettme.strpttme(date_typel, \"%Y-%m-%d )\\r\\ndate_type2 =\\r\\n\"Sep 16 2021 at 01:40\"\"\\r\\n= datetime.strpttme(date_type2, \"%b %d %Y at %I )\\r\\ndate_type3 =\\r\\n\"September 29, 2021,\\r\\ndate_type4 =\\r\\ndate_type5 =\\r\\ndate_type6 —\\r\\n= datettme.strpttme(date_type3,\\r\\n\" Sun , 05/12/21, 12 :\\r\\n= datetime.strpttme(date_type4,\\r\\n\" 2021-03-22T23: 22 \"\\r\\n= datettme.strpttme(date_type5,\\r\\n- \"Mon, 22nd March, 2021\"\\r\\n= datetime.strpttme(date_type6,\\r\\n\"96B )\\r\\n\"%a, %dnd %B, )\\r\\n',\n",
              "   'TextOrientation': '0',\n",
              "   'TextOverlay': {'HasOverlay': False,\n",
              "    'Lines': [],\n",
              "    'Message': 'Text overlay is not provided as it is not requested'}}],\n",
              " 'ProcessingTimeInMilliseconds': '640',\n",
              " 'SearchablePDFURL': 'Searchable PDF not generated as it was not requested.'}"
            ]
          },
          "metadata": {},
          "execution_count": 7
        }
      ]
    },
    {
      "cell_type": "code",
      "metadata": {
        "colab": {
          "base_uri": "https://localhost:8080/",
          "height": 137
        },
        "id": "fqWk4V7-L8Rd",
        "outputId": "31a95633-9f64-4e8a-c75d-c75c267cc0ff"
      },
      "source": [
        "document = json_output['ParsedResults'][0]['ParsedText']\n",
        "document"
      ],
      "execution_count": 8,
      "outputs": [
        {
          "output_type": "execute_result",
          "data": {
            "application/vnd.google.colaboratory.intrinsic+json": {
              "type": "string"
            },
            "text/plain": [
              "'# Use pandas to Auto Detect the Date and Time\\r\\nimport pandas as pd\\r\\ndate_array\\r\\n\\'2021-09-07 ,\\r\\n\\'Sep 07 2021 7:40\"\\' ,\\r\\n\\'September 07, 2021,\\r\\n\\'Sun, 07/12/2021, 12:30PM\\' ,\\r\\n\\'Mon, 07 September, 2021\\' ,\\r\\n\\'2021-09-07TIO: ,\\r\\n\\'2021-09-29 ,\\r\\n\\'2021-09-29 ,\\r\\n\\' Tuesday\\r\\n7th September, 2021 at 4:30pm\\'\\r\\nfor date _ time in date _ array:\\r\\nprint( date_time )\\r\\nprint( end=\"\\\\n\\\\n\" )\\r\\n# Disadvantage of using Pandas:\\r\\nPerformance\\r\\n# Use datettme Library for better performance\\r\\ndate_obj 1\\r\\ndate_obj2\\r\\ndate_obj3\\r\\ndate_obj4\\r\\ndate_obj5\\r\\ndate_obj6\\r\\nfrom\\r\\ndatettme import datettme\\r\\ndate_typel =\\r\\n\"2021-09-29\\r\\n= datettme.strpttme(date_typel, \"%Y-%m-%d )\\r\\ndate_type2 =\\r\\n\"Sep 16 2021 at 01:40\"\"\\r\\n= datetime.strpttme(date_type2, \"%b %d %Y at %I )\\r\\ndate_type3 =\\r\\n\"September 29, 2021,\\r\\ndate_type4 =\\r\\ndate_type5 =\\r\\ndate_type6 —\\r\\n= datettme.strpttme(date_type3,\\r\\n\" Sun , 05/12/21, 12 :\\r\\n= datetime.strpttme(date_type4,\\r\\n\" 2021-03-22T23: 22 \"\\r\\n= datettme.strpttme(date_type5,\\r\\n- \"Mon, 22nd March, 2021\"\\r\\n= datetime.strpttme(date_type6,\\r\\n\"96B )\\r\\n\"%a, %dnd %B, )\\r\\n'"
            ]
          },
          "metadata": {},
          "execution_count": 8
        }
      ]
    },
    {
      "cell_type": "code",
      "metadata": {
        "id": "HZfVLvWbOh00"
      },
      "source": [
        "# Use pandas to Auto Detect the Date and Time\n",
        "import pandas as pd\n",
        "date_arr = [ ['2021-09-07 8:15:27.243860',  'Sep 07 2021 7:40 AM' , 'September 07, 2021, 22:19:55'\n",
        ",'Sun, 07/12/2021, 12:30PM' , 'Mon, 07 September, 2021' , '2021-09-07T10:12:45Z' ,'2021-09-29 17:08:00.586525+00:00' \n",
        ", '2021-09-29 17:08:00.586525+00:00',' Tuesday, 7th September, 2021 at 4:30pm' ] for i in range(1000) ]\n",
        "\n",
        "import itertools\n",
        "\n",
        "date_array = list(itertools.chain.from_iterable(date_arr))"
      ],
      "execution_count": 38,
      "outputs": []
    },
    {
      "cell_type": "markdown",
      "metadata": {
        "id": "MKcHkvaDT-mn"
      },
      "source": [
        "1. Dataframe way"
      ]
    },
    {
      "cell_type": "code",
      "metadata": {
        "colab": {
          "base_uri": "https://localhost:8080/"
        },
        "id": "ZYnKC_RJOlm4",
        "outputId": "cfdc891d-db02-46b9-abf6-e666800fd69f"
      },
      "source": [
        "# Put it as a dataframe object first \n",
        "date_df = pd.DataFrame( date_array, columns=['Date_Test'])\n",
        "import time\n",
        "start = time.process_time()\n",
        "# your code here  \n",
        "date_df['Date_Test'] = pd.to_datetime(date_df['Date_Test'])\n",
        "# new_array = date_df['Date_Test'] \n",
        "\n",
        "print(time.process_time() - start)"
      ],
      "execution_count": 39,
      "outputs": [
        {
          "output_type": "stream",
          "name": "stdout",
          "text": [
            "0.009856589999998278\n"
          ]
        }
      ]
    },
    {
      "cell_type": "markdown",
      "metadata": {
        "id": "PEri1aAPUK1W"
      },
      "source": [
        "2. Datetime way"
      ]
    },
    {
      "cell_type": "code",
      "metadata": {
        "colab": {
          "base_uri": "https://localhost:8080/"
        },
        "id": "vDceGRb1QDtL",
        "outputId": "5ea4cd40-1e36-4b16-c271-ee0e5394117a"
      },
      "source": [
        "from datetime import datetime \n",
        "start = time.process_time()\n",
        "# your code here  \n",
        "from dateutil import parser\n",
        "parsed_list = [ parser.parse(date_string) for date_string in date_array ]\n",
        "# new_list = [  datetime(date_string) for date_string in parsed_list ]\n",
        "print(time.process_time() - start)"
      ],
      "execution_count": 40,
      "outputs": [
        {
          "output_type": "stream",
          "name": "stdout",
          "text": [
            "1.0908115139999985\n"
          ]
        }
      ]
    },
    {
      "cell_type": "code",
      "metadata": {
        "id": "JB1bFjE3Y1qa"
      },
      "source": [
        ""
      ],
      "execution_count": null,
      "outputs": []
    }
  ]
}