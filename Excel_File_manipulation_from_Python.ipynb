{
  "nbformat": 4,
  "nbformat_minor": 0,
  "metadata": {
    "colab": {
      "name": "Excel manipulation from Python.ipynb",
      "provenance": [],
      "collapsed_sections": [],
      "authorship_tag": "ABX9TyMMMdP5v6zEBIUjN/ns0psB",
      "include_colab_link": true
    },
    "kernelspec": {
      "name": "python3",
      "display_name": "Python 3"
    },
    "language_info": {
      "name": "python"
    }
  },
  "cells": [
    {
      "cell_type": "markdown",
      "metadata": {
        "id": "view-in-github",
        "colab_type": "text"
      },
      "source": [
        "<a href=\"https://colab.research.google.com/github/vsnupoudel/RandomAssignments/blob/main/Excel_File_manipulation_from_Python.ipynb\" target=\"_parent\"><img src=\"https://colab.research.google.com/assets/colab-badge.svg\" alt=\"Open In Colab\"/></a>"
      ]
    },
    {
      "cell_type": "code",
      "metadata": {
        "id": "_JnJ7E3D7MyP"
      },
      "source": [
        "import pandas as pd\n",
        "import openpyxl as xl\n",
        "import requests\n",
        "import os\n",
        "# open('facebook.ico', 'wb').write(r.content)"
      ],
      "execution_count": 23,
      "outputs": []
    },
    {
      "cell_type": "markdown",
      "metadata": {
        "id": "T1FAppdDoK1d"
      },
      "source": [
        "## Download the file “Financial_Report.xlsx” from the link (do it using Python code to download the file mentioned above)\n"
      ]
    },
    {
      "cell_type": "code",
      "metadata": {
        "id": "dAIjlzlBr69O"
      },
      "source": [
        "file_name = 'Financial_Report.xlsx'\n",
        "if os.path.exists('./'+file_name):\n",
        "    os.remove('./'+file_name)"
      ],
      "execution_count": 24,
      "outputs": []
    },
    {
      "cell_type": "code",
      "metadata": {
        "id": "Qkcx4rgq7jjQ"
      },
      "source": [
        "url = 'https://www.sec.gov/Archives/edgar/data/789019/000156459021002316/Financial_Report.xlsx'\n",
        "with open(file_name, \"wb+\") as file:\n",
        "        # get request\n",
        "        response = requests.get(url)\n",
        "        # write to file\n",
        "        file.write(response.content)\n",
        "\n",
        "# The url returns HTML, instead of excel when this cell is re-run. \n",
        "# I believe, It might be a collab related issue, so I will look into that later."
      ],
      "execution_count": 25,
      "outputs": []
    },
    {
      "cell_type": "markdown",
      "metadata": {
        "id": "UkjVzOAFp44v"
      },
      "source": [
        "## Uploading the file manually if it shows error in this step"
      ]
    },
    {
      "cell_type": "code",
      "metadata": {
        "id": "ZbJpkFe586t_"
      },
      "source": [
        "balsheet = pd.read_excel('./Financial_Report.xlsx'\n",
        "                            , sheet_name='BALANCE SHEETS'\n",
        "                              , index_col = 0\n",
        "                         )"
      ],
      "execution_count": 26,
      "outputs": []
    },
    {
      "cell_type": "markdown",
      "metadata": {
        "id": "FAWu815-oQ8G"
      },
      "source": [
        "## Go to the “Balance Sheets” sheet from the above file and extract only rows corresponding to Current Liabilities."
      ]
    },
    {
      "cell_type": "code",
      "metadata": {
        "id": "d7QVxc5qZvSR"
      },
      "source": [
        "listOfindex = list(balsheet.index )\n",
        "# listOfindex"
      ],
      "execution_count": 30,
      "outputs": []
    },
    {
      "cell_type": "code",
      "metadata": {
        "colab": {
          "base_uri": "https://localhost:8080/"
        },
        "id": "XJGPvM2_Y_R6",
        "outputId": "26219e21-0b18-49f1-d2f4-2ff41b19de07"
      },
      "source": [
        "import regex as re\n",
        "start = [listOfindex.index(i) for i in listOfindex if ('current' in i.lower().strip()[0:7]\n",
        "                     and 'liabilities'  in i.lower().strip()[-15:] ) ] \n",
        "start = start[0]\n",
        "start"
      ],
      "execution_count": 31,
      "outputs": [
        {
          "output_type": "execute_result",
          "data": {
            "text/plain": [
              "15"
            ]
          },
          "metadata": {},
          "execution_count": 31
        }
      ]
    },
    {
      "cell_type": "code",
      "metadata": {
        "colab": {
          "base_uri": "https://localhost:8080/"
        },
        "id": "WRGo8UYQZA6I",
        "outputId": "0772043a-8160-4c03-a635-a9a44695a951"
      },
      "source": [
        "end = [listOfindex.index(i) for i in listOfindex if ('stockholder' in i.lower().strip()[0:11]\n",
        "                     and 'equity'  in i.lower().strip()[-7:] ) ] \n",
        "end = end[0]\n",
        "end"
      ],
      "execution_count": 32,
      "outputs": [
        {
          "output_type": "execute_result",
          "data": {
            "text/plain": [
              "31"
            ]
          },
          "metadata": {},
          "execution_count": 32
        }
      ]
    },
    {
      "cell_type": "code",
      "metadata": {
        "id": "wuHtPVkCd1HC"
      },
      "source": [
        "cur_liab = balsheet.iloc[start:end , :]"
      ],
      "execution_count": 33,
      "outputs": []
    },
    {
      "cell_type": "code",
      "metadata": {
        "colab": {
          "base_uri": "https://localhost:8080/",
          "height": 142
        },
        "id": "QTScD-bNheEC",
        "outputId": "6b8a0eee-ddc1-4d39-a6a4-5b318dc15667"
      },
      "source": [
        "cur_liab.sample(2)"
      ],
      "execution_count": 35,
      "outputs": [
        {
          "output_type": "execute_result",
          "data": {
            "text/html": [
              "<div>\n",
              "<style scoped>\n",
              "    .dataframe tbody tr th:only-of-type {\n",
              "        vertical-align: middle;\n",
              "    }\n",
              "\n",
              "    .dataframe tbody tr th {\n",
              "        vertical-align: top;\n",
              "    }\n",
              "\n",
              "    .dataframe thead th {\n",
              "        text-align: right;\n",
              "    }\n",
              "</style>\n",
              "<table border=\"1\" class=\"dataframe\">\n",
              "  <thead>\n",
              "    <tr style=\"text-align: right;\">\n",
              "      <th></th>\n",
              "      <th>Dec. 31, 2020</th>\n",
              "      <th>Jun. 30, 2020</th>\n",
              "    </tr>\n",
              "    <tr>\n",
              "      <th>BALANCE SHEETS - USD ($) $ in Millions</th>\n",
              "      <th></th>\n",
              "      <th></th>\n",
              "    </tr>\n",
              "  </thead>\n",
              "  <tbody>\n",
              "    <tr>\n",
              "      <th>Other long-term liabilities</th>\n",
              "      <td>12544</td>\n",
              "      <td>10632</td>\n",
              "    </tr>\n",
              "    <tr>\n",
              "      <th>Operating lease liabilities</th>\n",
              "      <td>8875</td>\n",
              "      <td>7671</td>\n",
              "    </tr>\n",
              "  </tbody>\n",
              "</table>\n",
              "</div>"
            ],
            "text/plain": [
              "                                       Dec. 31, 2020 Jun. 30, 2020\n",
              "BALANCE SHEETS - USD ($) $ in Millions                            \n",
              "Other long-term liabilities                    12544         10632\n",
              "Operating lease liabilities                     8875          7671"
            ]
          },
          "metadata": {},
          "execution_count": 35
        }
      ]
    },
    {
      "cell_type": "markdown",
      "metadata": {
        "id": "I89WGyz7ifX3"
      },
      "source": [
        "## What proportion of “Total Current Liabilities” is “Accounts Payable”?"
      ]
    },
    {
      "cell_type": "code",
      "metadata": {
        "id": "Cq37MFV9jHcB"
      },
      "source": [
        "cur_liab = cur_liab[['Dec. 31, 2020'  , 'Jun. 30, 2020' ]].replace(' ', 0)"
      ],
      "execution_count": 36,
      "outputs": []
    },
    {
      "cell_type": "code",
      "metadata": {
        "colab": {
          "base_uri": "https://localhost:8080/",
          "height": 573
        },
        "id": "I8klwYwSj-S9",
        "outputId": "b657c380-e90e-4c36-a14e-8413a4cabc4c"
      },
      "source": [
        "cur_liab.astype({  'Dec. 31, 2020' : float \n",
        "                 , 'Jun. 30, 2020' : float  })"
      ],
      "execution_count": 37,
      "outputs": [
        {
          "output_type": "execute_result",
          "data": {
            "text/html": [
              "<div>\n",
              "<style scoped>\n",
              "    .dataframe tbody tr th:only-of-type {\n",
              "        vertical-align: middle;\n",
              "    }\n",
              "\n",
              "    .dataframe tbody tr th {\n",
              "        vertical-align: top;\n",
              "    }\n",
              "\n",
              "    .dataframe thead th {\n",
              "        text-align: right;\n",
              "    }\n",
              "</style>\n",
              "<table border=\"1\" class=\"dataframe\">\n",
              "  <thead>\n",
              "    <tr style=\"text-align: right;\">\n",
              "      <th></th>\n",
              "      <th>Dec. 31, 2020</th>\n",
              "      <th>Jun. 30, 2020</th>\n",
              "    </tr>\n",
              "    <tr>\n",
              "      <th>BALANCE SHEETS - USD ($) $ in Millions</th>\n",
              "      <th></th>\n",
              "      <th></th>\n",
              "    </tr>\n",
              "  </thead>\n",
              "  <tbody>\n",
              "    <tr>\n",
              "      <th>Current liabilities:</th>\n",
              "      <td>NaN</td>\n",
              "      <td>NaN</td>\n",
              "    </tr>\n",
              "    <tr>\n",
              "      <th>Accounts payable</th>\n",
              "      <td>12770.0</td>\n",
              "      <td>12530.0</td>\n",
              "    </tr>\n",
              "    <tr>\n",
              "      <th>Current portion of long-term debt</th>\n",
              "      <td>5387.0</td>\n",
              "      <td>3749.0</td>\n",
              "    </tr>\n",
              "    <tr>\n",
              "      <th>Accrued compensation</th>\n",
              "      <td>6838.0</td>\n",
              "      <td>7874.0</td>\n",
              "    </tr>\n",
              "    <tr>\n",
              "      <th>Short-term income taxes</th>\n",
              "      <td>1562.0</td>\n",
              "      <td>2130.0</td>\n",
              "    </tr>\n",
              "    <tr>\n",
              "      <th>Short-term unearned revenue</th>\n",
              "      <td>30402.0</td>\n",
              "      <td>36000.0</td>\n",
              "    </tr>\n",
              "    <tr>\n",
              "      <th>Other current liabilities</th>\n",
              "      <td>10527.0</td>\n",
              "      <td>10027.0</td>\n",
              "    </tr>\n",
              "    <tr>\n",
              "      <th>Total current liabilities</th>\n",
              "      <td>67486.0</td>\n",
              "      <td>72310.0</td>\n",
              "    </tr>\n",
              "    <tr>\n",
              "      <th>Long-term debt</th>\n",
              "      <td>55136.0</td>\n",
              "      <td>59578.0</td>\n",
              "    </tr>\n",
              "    <tr>\n",
              "      <th>Long-term income taxes</th>\n",
              "      <td>26701.0</td>\n",
              "      <td>29432.0</td>\n",
              "    </tr>\n",
              "    <tr>\n",
              "      <th>Long-term unearned revenue</th>\n",
              "      <td>2985.0</td>\n",
              "      <td>3180.0</td>\n",
              "    </tr>\n",
              "    <tr>\n",
              "      <th>Deferred income taxes</th>\n",
              "      <td>174.0</td>\n",
              "      <td>204.0</td>\n",
              "    </tr>\n",
              "    <tr>\n",
              "      <th>Operating lease liabilities</th>\n",
              "      <td>8875.0</td>\n",
              "      <td>7671.0</td>\n",
              "    </tr>\n",
              "    <tr>\n",
              "      <th>Other long-term liabilities</th>\n",
              "      <td>12544.0</td>\n",
              "      <td>10632.0</td>\n",
              "    </tr>\n",
              "    <tr>\n",
              "      <th>Total liabilities</th>\n",
              "      <td>173901.0</td>\n",
              "      <td>183007.0</td>\n",
              "    </tr>\n",
              "    <tr>\n",
              "      <th>Commitments and contingencies</th>\n",
              "      <td>0.0</td>\n",
              "      <td>0.0</td>\n",
              "    </tr>\n",
              "  </tbody>\n",
              "</table>\n",
              "</div>"
            ],
            "text/plain": [
              "                                        Dec. 31, 2020  Jun. 30, 2020\n",
              "BALANCE SHEETS - USD ($) $ in Millions                              \n",
              "Current liabilities:                              NaN            NaN\n",
              "Accounts payable                              12770.0        12530.0\n",
              "Current portion of long-term debt              5387.0         3749.0\n",
              "Accrued compensation                           6838.0         7874.0\n",
              "Short-term income taxes                        1562.0         2130.0\n",
              "Short-term unearned revenue                   30402.0        36000.0\n",
              "Other current liabilities                     10527.0        10027.0\n",
              "Total current liabilities                     67486.0        72310.0\n",
              "Long-term debt                                55136.0        59578.0\n",
              "Long-term income taxes                        26701.0        29432.0\n",
              "Long-term unearned revenue                     2985.0         3180.0\n",
              "Deferred income taxes                           174.0          204.0\n",
              "Operating lease liabilities                    8875.0         7671.0\n",
              "Other long-term liabilities                   12544.0        10632.0\n",
              "Total liabilities                            173901.0       183007.0\n",
              "Commitments and contingencies                     0.0            0.0"
            ]
          },
          "metadata": {},
          "execution_count": 37
        }
      ]
    },
    {
      "cell_type": "code",
      "metadata": {
        "colab": {
          "base_uri": "https://localhost:8080/"
        },
        "id": "P3gocTCAhjDk",
        "outputId": "9ea91e5c-643f-44d8-b18f-fb71b5aae1a2"
      },
      "source": [
        "cur_liab.loc[ 'Accounts payable' , ].sum() /  cur_liab.sum().sum()"
      ],
      "execution_count": 38,
      "outputs": [
        {
          "output_type": "execute_result",
          "data": {
            "text/plain": [
              "0.029638758592897007"
            ]
          },
          "metadata": {},
          "execution_count": 38
        }
      ]
    },
    {
      "cell_type": "markdown",
      "metadata": {
        "id": "Wid3b4QsmzK6"
      },
      "source": [
        "### Answer : 0.02964"
      ]
    },
    {
      "cell_type": "markdown",
      "metadata": {
        "id": "EEa3StIsm4Pd"
      },
      "source": [
        "## By how much percent is “Total Liabilities and stockholders equity” for  Dec, 31st 2020 more or less than Jun, 30th 2020?\n",
        "- Corrected the wording  of question slightly"
      ]
    },
    {
      "cell_type": "code",
      "metadata": {
        "colab": {
          "base_uri": "https://localhost:8080/"
        },
        "id": "X824KoDmjRGo",
        "outputId": "2176ae21-bd95-4e94-9dbc-ee51b1a7eb65"
      },
      "source": [
        "( balsheet.loc['Total liabilities and stockholders’ equity', 'Dec. 31, 2020'] - balsheet.loc[\n",
        "                        'Total liabilities and stockholders’ equity', 'Jun. 30, 2020']) / balsheet.loc[\n",
        "            'Total liabilities and stockholders’ equity', 'Dec. 31, 2020'] "
      ],
      "execution_count": 42,
      "outputs": [
        {
          "output_type": "execute_result",
          "data": {
            "text/plain": [
              "0.00929186517917912"
            ]
          },
          "metadata": {},
          "execution_count": 42
        }
      ]
    },
    {
      "cell_type": "markdown",
      "metadata": {
        "id": "QAJLfzH-uobD"
      },
      "source": [
        "- It is 0.93% or almost 1% more"
      ]
    },
    {
      "cell_type": "markdown",
      "metadata": {
        "id": "rwSD-E3Iut2z"
      },
      "source": [
        "## Combine all the sheets with the same column names (Dec, 31st 2020 and June 30th 2020) and create a master excel sheet with these two columns. The final master excel sheet should have four columns: the two dates mentioned above, variable name (like Cash and Cash Equivalents) and variable type (like Current Assets)."
      ]
    },
    {
      "cell_type": "markdown",
      "metadata": {
        "id": "FNzwws92vmmH"
      },
      "source": [
        "Answer : Should be done in VBA so that it can be easily automated later. VBA code could be called from python script"
      ]
    },
    {
      "cell_type": "code",
      "metadata": {
        "id": "yxklzUUxuAfZ"
      },
      "source": [
        ""
      ],
      "execution_count": null,
      "outputs": []
    }
  ]
}