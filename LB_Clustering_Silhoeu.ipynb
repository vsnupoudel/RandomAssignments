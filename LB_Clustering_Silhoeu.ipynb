{
  "nbformat": 4,
  "nbformat_minor": 0,
  "metadata": {
    "colab": {
      "name": "LB_Clustering_Silhoeu.ipynb",
      "provenance": [],
      "include_colab_link": true
    },
    "kernelspec": {
      "display_name": "Python 3",
      "language": "python",
      "name": "python3"
    },
    "language_info": {
      "codemirror_mode": {
        "name": "ipython",
        "version": 3
      },
      "file_extension": ".py",
      "mimetype": "text/x-python",
      "name": "python",
      "nbconvert_exporter": "python",
      "pygments_lexer": "ipython3",
      "version": "3.7.9"
    }
  },
  "cells": [
    {
      "cell_type": "markdown",
      "metadata": {
        "id": "view-in-github",
        "colab_type": "text"
      },
      "source": [
        "<a href=\"https://colab.research.google.com/github/vsnupoudel/RandomAssignments/blob/main/LB_Clustering_Silhoeu.ipynb\" target=\"_parent\"><img src=\"https://colab.research.google.com/assets/colab-badge.svg\" alt=\"Open In Colab\"/></a>"
      ]
    },
    {
      "cell_type": "markdown",
      "metadata": {
        "id": "lEZ78scqRb0D"
      },
      "source": [
        "# EDA, Cleaning and Clustering for Forex Clients data"
      ]
    },
    {
      "cell_type": "markdown",
      "metadata": {
        "id": "2NZDQDo2Rb0H"
      },
      "source": [
        "Credentials\n",
        "- host: technical-test-1.cgajoruzs0oh.ap-southeast-2.rds.amazonaws.com\n",
        "- port: 5432\n",
        "- database: technical_test\n",
        "- user: candidate\n",
        "- password: NW337AkNQH76veGc"
      ]
    },
    {
      "cell_type": "markdown",
      "metadata": {
        "id": "WjCqrrwtnWqL"
      },
      "source": [
        "- **Install and restart kernel if needed**"
      ]
    },
    {
      "cell_type": "code",
      "metadata": {
        "id": "DxWthGoURb0J"
      },
      "source": [
        "# !pip install psycopg2\n",
        "# !pip install yellowbrick"
      ],
      "execution_count": 65,
      "outputs": []
    },
    {
      "cell_type": "code",
      "metadata": {
        "id": "r7OsY-gvRb0L"
      },
      "source": [
        "import pandas as pd\n",
        "import numpy as np\n",
        "import matplotlib.pyplot as plt\n",
        "import psycopg2"
      ],
      "execution_count": 66,
      "outputs": []
    },
    {
      "cell_type": "code",
      "metadata": {
        "id": "c1oAJuMXRb0N"
      },
      "source": [
        "class Connection:\n",
        "    def __init__(self):\n",
        "        self.connection = psycopg2.connect(user = \"candidate\",\n",
        "                              password = \"NW337AkNQH76veGc\",\n",
        "                              host = \"technical-test-1.cgajoruzs0oh.ap-southeast-2.rds.amazonaws.com\",\n",
        "                              port = \"5432\",\n",
        "                              database = \"technical_test\")\n",
        "        \n",
        "    def queryin(self, query_string):\n",
        "        with self.connection.cursor()  as cursor: \n",
        "            cursor.execute( query_string )\n",
        "            colnames = [desc[0] for desc in cursor.description]\n",
        "            result_df = pd.DataFrame(cursor.fetchall(), columns=colnames)\n",
        "            cursor.close()\n",
        "        return result_df\n",
        "    \n",
        "    def close_conn(self):\n",
        "        self.connection.close()        "
      ],
      "execution_count": 67,
      "outputs": []
    },
    {
      "cell_type": "markdown",
      "metadata": {
        "id": "kgN8W1lYRb0O"
      },
      "source": [
        "## Tables are small enough to load directly into pd dataframe\n",
        "- Reading Individual tables as dataframes and merging them in pandas.\n",
        "- Could be joined directly later,if the table characteristics are known"
      ]
    },
    {
      "cell_type": "code",
      "metadata": {
        "id": "tvqoz9c8Rb0P"
      },
      "source": [
        "connection = Connection()"
      ],
      "execution_count": 68,
      "outputs": []
    },
    {
      "cell_type": "code",
      "metadata": {
        "colab": {
          "base_uri": "https://localhost:8080/",
          "height": 542
        },
        "id": "-KLx6wHiRb0P",
        "outputId": "4e1f3299-6aed-4661-ed4f-8bfd9afb67ef"
      },
      "source": [
        "select_table_query = '''SELECT column_name, data_type, is_nullable\n",
        "FROM information_schema.columns\n",
        "WHERE table_name in ('trades','users') ; '''\n",
        "\n",
        "connection.queryin(select_table_query)"
      ],
      "execution_count": 69,
      "outputs": [
        {
          "output_type": "execute_result",
          "data": {
            "text/html": [
              "<div>\n",
              "<style scoped>\n",
              "    .dataframe tbody tr th:only-of-type {\n",
              "        vertical-align: middle;\n",
              "    }\n",
              "\n",
              "    .dataframe tbody tr th {\n",
              "        vertical-align: top;\n",
              "    }\n",
              "\n",
              "    .dataframe thead th {\n",
              "        text-align: right;\n",
              "    }\n",
              "</style>\n",
              "<table border=\"1\" class=\"dataframe\">\n",
              "  <thead>\n",
              "    <tr style=\"text-align: right;\">\n",
              "      <th></th>\n",
              "      <th>column_name</th>\n",
              "      <th>data_type</th>\n",
              "      <th>is_nullable</th>\n",
              "    </tr>\n",
              "  </thead>\n",
              "  <tbody>\n",
              "    <tr>\n",
              "      <th>0</th>\n",
              "      <td>login_hash</td>\n",
              "      <td>text</td>\n",
              "      <td>YES</td>\n",
              "    </tr>\n",
              "    <tr>\n",
              "      <th>1</th>\n",
              "      <td>ticket_hash</td>\n",
              "      <td>text</td>\n",
              "      <td>YES</td>\n",
              "    </tr>\n",
              "    <tr>\n",
              "      <th>2</th>\n",
              "      <td>server_hash</td>\n",
              "      <td>text</td>\n",
              "      <td>YES</td>\n",
              "    </tr>\n",
              "    <tr>\n",
              "      <th>3</th>\n",
              "      <td>symbol</td>\n",
              "      <td>text</td>\n",
              "      <td>YES</td>\n",
              "    </tr>\n",
              "    <tr>\n",
              "      <th>4</th>\n",
              "      <td>digits</td>\n",
              "      <td>bigint</td>\n",
              "      <td>YES</td>\n",
              "    </tr>\n",
              "    <tr>\n",
              "      <th>5</th>\n",
              "      <td>cmd</td>\n",
              "      <td>bigint</td>\n",
              "      <td>YES</td>\n",
              "    </tr>\n",
              "    <tr>\n",
              "      <th>6</th>\n",
              "      <td>volume</td>\n",
              "      <td>bigint</td>\n",
              "      <td>YES</td>\n",
              "    </tr>\n",
              "    <tr>\n",
              "      <th>7</th>\n",
              "      <td>open_time</td>\n",
              "      <td>timestamp without time zone</td>\n",
              "      <td>YES</td>\n",
              "    </tr>\n",
              "    <tr>\n",
              "      <th>8</th>\n",
              "      <td>open_price</td>\n",
              "      <td>double precision</td>\n",
              "      <td>YES</td>\n",
              "    </tr>\n",
              "    <tr>\n",
              "      <th>9</th>\n",
              "      <td>close_time</td>\n",
              "      <td>timestamp without time zone</td>\n",
              "      <td>YES</td>\n",
              "    </tr>\n",
              "    <tr>\n",
              "      <th>10</th>\n",
              "      <td>contractsize</td>\n",
              "      <td>double precision</td>\n",
              "      <td>YES</td>\n",
              "    </tr>\n",
              "    <tr>\n",
              "      <th>11</th>\n",
              "      <td>login_hash</td>\n",
              "      <td>text</td>\n",
              "      <td>YES</td>\n",
              "    </tr>\n",
              "    <tr>\n",
              "      <th>12</th>\n",
              "      <td>server_hash</td>\n",
              "      <td>text</td>\n",
              "      <td>YES</td>\n",
              "    </tr>\n",
              "    <tr>\n",
              "      <th>13</th>\n",
              "      <td>country_hash</td>\n",
              "      <td>text</td>\n",
              "      <td>YES</td>\n",
              "    </tr>\n",
              "    <tr>\n",
              "      <th>14</th>\n",
              "      <td>currency</td>\n",
              "      <td>text</td>\n",
              "      <td>YES</td>\n",
              "    </tr>\n",
              "    <tr>\n",
              "      <th>15</th>\n",
              "      <td>enable</td>\n",
              "      <td>bigint</td>\n",
              "      <td>YES</td>\n",
              "    </tr>\n",
              "  </tbody>\n",
              "</table>\n",
              "</div>"
            ],
            "text/plain": [
              "     column_name                    data_type is_nullable\n",
              "0     login_hash                         text         YES\n",
              "1    ticket_hash                         text         YES\n",
              "2    server_hash                         text         YES\n",
              "3         symbol                         text         YES\n",
              "4         digits                       bigint         YES\n",
              "5            cmd                       bigint         YES\n",
              "6         volume                       bigint         YES\n",
              "7      open_time  timestamp without time zone         YES\n",
              "8     open_price             double precision         YES\n",
              "9     close_time  timestamp without time zone         YES\n",
              "10  contractsize             double precision         YES\n",
              "11    login_hash                         text         YES\n",
              "12   server_hash                         text         YES\n",
              "13  country_hash                         text         YES\n",
              "14      currency                         text         YES\n",
              "15        enable                       bigint         YES"
            ]
          },
          "metadata": {},
          "execution_count": 69
        }
      ]
    },
    {
      "cell_type": "markdown",
      "metadata": {
        "id": "bc0Nnu1_Rb0R"
      },
      "source": [
        "## From looking at tables\n",
        "-duplicates in user table"
      ]
    },
    {
      "cell_type": "code",
      "metadata": {
        "colab": {
          "base_uri": "https://localhost:8080/"
        },
        "id": "DNpV_X2bRb0R",
        "outputId": "3dac7a54-4381-4a4e-fb8a-d0238bfc1100"
      },
      "source": [
        "print(connection.queryin('SELECT count(*) from users ;'))\n",
        "print(connection.queryin('''select count(*) from (select DISTINCT login_hash,  country_hash, currency, enable \n",
        "from users) as sq;'''))"
      ],
      "execution_count": 70,
      "outputs": [
        {
          "output_type": "stream",
          "name": "stdout",
          "text": [
            "   count\n",
            "0   1000\n",
            "   count\n",
            "0    666\n"
          ]
        }
      ]
    },
    {
      "cell_type": "markdown",
      "metadata": {
        "id": "w02Ya8KARb0S"
      },
      "source": [
        "- primary key of trades could be login_hash and ticket_hash"
      ]
    },
    {
      "cell_type": "code",
      "metadata": {
        "colab": {
          "base_uri": "https://localhost:8080/"
        },
        "id": "tGHWXDL_Rb0S",
        "outputId": "56799e68-93bb-4883-94a8-77f9343ea93d"
      },
      "source": [
        "print( connection.queryin('''select count(*) from (select DISTINCT login_hash, ticket_hash from trades ) as sq;'''))\n",
        "print( connection.queryin('''select count(*) from trades;''') )"
      ],
      "execution_count": 71,
      "outputs": [
        {
          "output_type": "stream",
          "name": "stdout",
          "text": [
            "    count\n",
            "0  100000\n",
            "    count\n",
            "0  100000\n"
          ]
        }
      ]
    },
    {
      "cell_type": "markdown",
      "metadata": {
        "id": "LsPFUkgFRb0T"
      },
      "source": [
        "## Observations\n",
        "- trades is unique on login_hash and ticket_hash\n",
        "\n",
        "### Storing users table as dataframe, and running checks on it"
      ]
    },
    {
      "cell_type": "code",
      "metadata": {
        "id": "cpCnyZmrRb0T"
      },
      "source": [
        "usersdf = connection.queryin('''select DISTINCT login_hash, server_hash, country_hash, currency, enable \n",
        "from users;''')"
      ],
      "execution_count": 72,
      "outputs": []
    },
    {
      "cell_type": "code",
      "metadata": {
        "colab": {
          "base_uri": "https://localhost:8080/",
          "height": 142
        },
        "id": "Em3V7A__Rb0U",
        "outputId": "6509b0ec-434b-4346-9213-39710b26d134"
      },
      "source": [
        "usersdf[usersdf['currency'] != 'USD'].sample(3)"
      ],
      "execution_count": 73,
      "outputs": [
        {
          "output_type": "execute_result",
          "data": {
            "text/html": [
              "<div>\n",
              "<style scoped>\n",
              "    .dataframe tbody tr th:only-of-type {\n",
              "        vertical-align: middle;\n",
              "    }\n",
              "\n",
              "    .dataframe tbody tr th {\n",
              "        vertical-align: top;\n",
              "    }\n",
              "\n",
              "    .dataframe thead th {\n",
              "        text-align: right;\n",
              "    }\n",
              "</style>\n",
              "<table border=\"1\" class=\"dataframe\">\n",
              "  <thead>\n",
              "    <tr style=\"text-align: right;\">\n",
              "      <th></th>\n",
              "      <th>login_hash</th>\n",
              "      <th>server_hash</th>\n",
              "      <th>country_hash</th>\n",
              "      <th>currency</th>\n",
              "      <th>enable</th>\n",
              "    </tr>\n",
              "  </thead>\n",
              "  <tbody>\n",
              "    <tr>\n",
              "      <th>513</th>\n",
              "      <td>FAE10F63521309082E08AF7849D3A880</td>\n",
              "      <td>3D1F7E00251C43107EF39F55300781DB</td>\n",
              "      <td>4442E4AF0916F53A07FB8CA9A49B98ED</td>\n",
              "      <td>AUD</td>\n",
              "      <td>1</td>\n",
              "    </tr>\n",
              "    <tr>\n",
              "      <th>255</th>\n",
              "      <td>276CB91E08BAACD855A954DFE0E76746</td>\n",
              "      <td>3D1F7E00251C43107EF39F55300781DB</td>\n",
              "      <td>4442E4AF0916F53A07FB8CA9A49B98ED</td>\n",
              "      <td>AUD</td>\n",
              "      <td>1</td>\n",
              "    </tr>\n",
              "    <tr>\n",
              "      <th>639</th>\n",
              "      <td>452E3BC11C4F036DF93E93EE4109D930</td>\n",
              "      <td>3D1F7E00251C43107EF39F55300781DB</td>\n",
              "      <td>4442E4AF0916F53A07FB8CA9A49B98ED</td>\n",
              "      <td>AUD</td>\n",
              "      <td>1</td>\n",
              "    </tr>\n",
              "  </tbody>\n",
              "</table>\n",
              "</div>"
            ],
            "text/plain": [
              "                           login_hash  ... enable\n",
              "513  FAE10F63521309082E08AF7849D3A880  ...      1\n",
              "255  276CB91E08BAACD855A954DFE0E76746  ...      1\n",
              "639  452E3BC11C4F036DF93E93EE4109D930  ...      1\n",
              "\n",
              "[3 rows x 5 columns]"
            ]
          },
          "metadata": {},
          "execution_count": 73
        }
      ]
    },
    {
      "cell_type": "code",
      "metadata": {
        "colab": {
          "base_uri": "https://localhost:8080/"
        },
        "id": "JL2l2FSzRb0U",
        "outputId": "764c1d0a-01f2-4baa-80e7-995d1c14ff86"
      },
      "source": [
        "print(usersdf.shape)\n",
        "print( len(usersdf.login_hash.unique() ) )"
      ],
      "execution_count": 74,
      "outputs": [
        {
          "output_type": "stream",
          "name": "stdout",
          "text": [
            "(666, 5)\n",
            "666\n"
          ]
        }
      ]
    },
    {
      "cell_type": "markdown",
      "metadata": {
        "id": "yrCZr1mRRb0W"
      },
      "source": [
        "- Now the table is unique on login_hash; So, can be joined with the trades table"
      ]
    },
    {
      "cell_type": "markdown",
      "metadata": {
        "id": "m_sZWwxPRb0W"
      },
      "source": [
        "# Check for null values before joining"
      ]
    },
    {
      "cell_type": "code",
      "metadata": {
        "colab": {
          "base_uri": "https://localhost:8080/"
        },
        "id": "qtbDXgjfRb0W",
        "outputId": "4755c6e5-6b23-4f16-f15f-df426c1304e6"
      },
      "source": [
        "usersdf.isna().sum()"
      ],
      "execution_count": 75,
      "outputs": [
        {
          "output_type": "execute_result",
          "data": {
            "text/plain": [
              "login_hash      0\n",
              "server_hash     0\n",
              "country_hash    0\n",
              "currency        0\n",
              "enable          0\n",
              "dtype: int64"
            ]
          },
          "metadata": {},
          "execution_count": 75
        }
      ]
    },
    {
      "cell_type": "code",
      "metadata": {
        "id": "XLw2z12bRb0Y"
      },
      "source": [
        "tradesdf = connection.queryin('''SELECT * FROM trades;''')"
      ],
      "execution_count": 76,
      "outputs": []
    },
    {
      "cell_type": "code",
      "metadata": {
        "colab": {
          "base_uri": "https://localhost:8080/"
        },
        "id": "_j3a8WyZRb0Z",
        "outputId": "97c2a3d5-0d01-4125-f899-b327d06b81e5"
      },
      "source": [
        "print( len(tradesdf.login_hash.unique()) )\n",
        "print( len(usersdf.login_hash.unique()))"
      ],
      "execution_count": 77,
      "outputs": [
        {
          "output_type": "stream",
          "name": "stdout",
          "text": [
            "5142\n",
            "666\n"
          ]
        }
      ]
    },
    {
      "cell_type": "code",
      "metadata": {
        "colab": {
          "base_uri": "https://localhost:8080/",
          "height": 198
        },
        "id": "43YZx5uxRb0a",
        "outputId": "5069526a-a0b1-47de-8615-e21163bf224d"
      },
      "source": [
        "tradesdf.sample(2)"
      ],
      "execution_count": 78,
      "outputs": [
        {
          "output_type": "execute_result",
          "data": {
            "text/html": [
              "<div>\n",
              "<style scoped>\n",
              "    .dataframe tbody tr th:only-of-type {\n",
              "        vertical-align: middle;\n",
              "    }\n",
              "\n",
              "    .dataframe tbody tr th {\n",
              "        vertical-align: top;\n",
              "    }\n",
              "\n",
              "    .dataframe thead th {\n",
              "        text-align: right;\n",
              "    }\n",
              "</style>\n",
              "<table border=\"1\" class=\"dataframe\">\n",
              "  <thead>\n",
              "    <tr style=\"text-align: right;\">\n",
              "      <th></th>\n",
              "      <th>login_hash</th>\n",
              "      <th>ticket_hash</th>\n",
              "      <th>server_hash</th>\n",
              "      <th>symbol</th>\n",
              "      <th>digits</th>\n",
              "      <th>cmd</th>\n",
              "      <th>volume</th>\n",
              "      <th>open_time</th>\n",
              "      <th>open_price</th>\n",
              "      <th>close_time</th>\n",
              "      <th>contractsize</th>\n",
              "    </tr>\n",
              "  </thead>\n",
              "  <tbody>\n",
              "    <tr>\n",
              "      <th>81427</th>\n",
              "      <td>2369EEC226F9702B25C9EA254443510F</td>\n",
              "      <td>E40898FFA8AAE5238E583C3471522D7D</td>\n",
              "      <td>2F1CA40D76D7E6165DBA3924CE0D3B5C</td>\n",
              "      <td>USDCHF</td>\n",
              "      <td>5</td>\n",
              "      <td>0</td>\n",
              "      <td>10</td>\n",
              "      <td>2020-08-07 16:20:04</td>\n",
              "      <td>0.91550</td>\n",
              "      <td>2020-08-11 12:08:19</td>\n",
              "      <td>100000.0</td>\n",
              "    </tr>\n",
              "    <tr>\n",
              "      <th>82815</th>\n",
              "      <td>7060E30AD6D73F360B2D779416EE289C</td>\n",
              "      <td>014D2156BC6A6BA299F5F794FCBF1C93</td>\n",
              "      <td>2F1CA40D76D7E6165DBA3924CE0D3B5C</td>\n",
              "      <td>EURUSD</td>\n",
              "      <td>5</td>\n",
              "      <td>0</td>\n",
              "      <td>2</td>\n",
              "      <td>2020-08-13 17:11:00</td>\n",
              "      <td>1.18625</td>\n",
              "      <td>2020-08-14 09:07:01</td>\n",
              "      <td>100000.0</td>\n",
              "    </tr>\n",
              "  </tbody>\n",
              "</table>\n",
              "</div>"
            ],
            "text/plain": [
              "                             login_hash  ... contractsize\n",
              "81427  2369EEC226F9702B25C9EA254443510F  ...     100000.0\n",
              "82815  7060E30AD6D73F360B2D779416EE289C  ...     100000.0\n",
              "\n",
              "[2 rows x 11 columns]"
            ]
          },
          "metadata": {},
          "execution_count": 78
        }
      ]
    },
    {
      "cell_type": "markdown",
      "metadata": {
        "id": "OcDkjGqMRb0b"
      },
      "source": [
        "# Extract data and close connection\n",
        "- left join on the fact table ( trades)"
      ]
    },
    {
      "cell_type": "code",
      "metadata": {
        "id": "s_DegKAERb0c"
      },
      "source": [
        "output = connection.queryin('''SELECT tr.*, usr.*\n",
        "                                FROM trades as tr \n",
        "                                LEFT JOIN ( select DISTINCT login_hash,  country_hash, currency, enable \n",
        "                                from users)  as usr \n",
        "                                ON tr.login_hash = usr.login_hash;''')\n",
        "\n",
        "connection.close_conn()"
      ],
      "execution_count": 79,
      "outputs": []
    },
    {
      "cell_type": "code",
      "metadata": {
        "id": "UeOqH5FYRb0d"
      },
      "source": [
        "opath = 'outputdf.pkl'\n",
        "output.to_pickle(path= opath )"
      ],
      "execution_count": 80,
      "outputs": []
    },
    {
      "cell_type": "markdown",
      "metadata": {
        "id": "bmemm1DxRb0d"
      },
      "source": [
        "# Read pickle file\n",
        "- Doing operations one after another for clarity, can be chained later"
      ]
    },
    {
      "cell_type": "code",
      "metadata": {
        "id": "IMZkDNinRb0d"
      },
      "source": [
        "opath = 'outputdf.pkl'\n",
        "output = pd.read_pickle(opath)"
      ],
      "execution_count": 81,
      "outputs": []
    },
    {
      "cell_type": "code",
      "metadata": {
        "colab": {
          "base_uri": "https://localhost:8080/",
          "height": 262
        },
        "id": "AjjNmRseRb0e",
        "outputId": "b5dbc29e-f1e2-4989-dd20-f5e5463deb67"
      },
      "source": [
        "output.head(3)"
      ],
      "execution_count": 82,
      "outputs": [
        {
          "output_type": "execute_result",
          "data": {
            "text/html": [
              "<div>\n",
              "<style scoped>\n",
              "    .dataframe tbody tr th:only-of-type {\n",
              "        vertical-align: middle;\n",
              "    }\n",
              "\n",
              "    .dataframe tbody tr th {\n",
              "        vertical-align: top;\n",
              "    }\n",
              "\n",
              "    .dataframe thead th {\n",
              "        text-align: right;\n",
              "    }\n",
              "</style>\n",
              "<table border=\"1\" class=\"dataframe\">\n",
              "  <thead>\n",
              "    <tr style=\"text-align: right;\">\n",
              "      <th></th>\n",
              "      <th>login_hash</th>\n",
              "      <th>ticket_hash</th>\n",
              "      <th>server_hash</th>\n",
              "      <th>symbol</th>\n",
              "      <th>digits</th>\n",
              "      <th>cmd</th>\n",
              "      <th>volume</th>\n",
              "      <th>open_time</th>\n",
              "      <th>open_price</th>\n",
              "      <th>close_time</th>\n",
              "      <th>contractsize</th>\n",
              "      <th>login_hash</th>\n",
              "      <th>country_hash</th>\n",
              "      <th>currency</th>\n",
              "      <th>enable</th>\n",
              "    </tr>\n",
              "  </thead>\n",
              "  <tbody>\n",
              "    <tr>\n",
              "      <th>0</th>\n",
              "      <td>58147CEE6BFB8404D6A78B1AF504DF3B</td>\n",
              "      <td>ACA5E99A3D0756083E96247BDC158E47</td>\n",
              "      <td>3D1F7E00251C43107EF39F55300781DB</td>\n",
              "      <td>GBPCAD</td>\n",
              "      <td>5</td>\n",
              "      <td>1</td>\n",
              "      <td>1</td>\n",
              "      <td>2020-08-14 05:55:22</td>\n",
              "      <td>1.72662</td>\n",
              "      <td>2020-08-14 08:02:13</td>\n",
              "      <td>100000.0</td>\n",
              "      <td>58147CEE6BFB8404D6A78B1AF504DF3B</td>\n",
              "      <td>4442E4AF0916F53A07FB8CA9A49B98ED</td>\n",
              "      <td>USD</td>\n",
              "      <td>1.0</td>\n",
              "    </tr>\n",
              "    <tr>\n",
              "      <th>1</th>\n",
              "      <td>58147CEE6BFB8404D6A78B1AF504DF3B</td>\n",
              "      <td>D3DCFA225F910CDF253E83EEBDD34928</td>\n",
              "      <td>3D1F7E00251C43107EF39F55300781DB</td>\n",
              "      <td>GBPCAD</td>\n",
              "      <td>5</td>\n",
              "      <td>1</td>\n",
              "      <td>1</td>\n",
              "      <td>2020-08-13 18:29:38</td>\n",
              "      <td>1.72811</td>\n",
              "      <td>2020-08-13 19:52:15</td>\n",
              "      <td>100000.0</td>\n",
              "      <td>58147CEE6BFB8404D6A78B1AF504DF3B</td>\n",
              "      <td>4442E4AF0916F53A07FB8CA9A49B98ED</td>\n",
              "      <td>USD</td>\n",
              "      <td>1.0</td>\n",
              "    </tr>\n",
              "    <tr>\n",
              "      <th>2</th>\n",
              "      <td>58147CEE6BFB8404D6A78B1AF504DF3B</td>\n",
              "      <td>E3D37B05AA4C234FAF17BB277B7CB0F0</td>\n",
              "      <td>3D1F7E00251C43107EF39F55300781DB</td>\n",
              "      <td>NZDJPY</td>\n",
              "      <td>3</td>\n",
              "      <td>0</td>\n",
              "      <td>2</td>\n",
              "      <td>2020-08-19 06:38:54</td>\n",
              "      <td>69.72500</td>\n",
              "      <td>2020-08-19 08:16:19</td>\n",
              "      <td>100000.0</td>\n",
              "      <td>58147CEE6BFB8404D6A78B1AF504DF3B</td>\n",
              "      <td>4442E4AF0916F53A07FB8CA9A49B98ED</td>\n",
              "      <td>USD</td>\n",
              "      <td>1.0</td>\n",
              "    </tr>\n",
              "  </tbody>\n",
              "</table>\n",
              "</div>"
            ],
            "text/plain": [
              "                         login_hash  ... enable\n",
              "0  58147CEE6BFB8404D6A78B1AF504DF3B  ...    1.0\n",
              "1  58147CEE6BFB8404D6A78B1AF504DF3B  ...    1.0\n",
              "2  58147CEE6BFB8404D6A78B1AF504DF3B  ...    1.0\n",
              "\n",
              "[3 rows x 15 columns]"
            ]
          },
          "metadata": {},
          "execution_count": 82
        }
      ]
    },
    {
      "cell_type": "code",
      "metadata": {
        "colab": {
          "base_uri": "https://localhost:8080/"
        },
        "id": "JrE7dM5qRb0f",
        "outputId": "9ee86b85-3e91-4d28-e263-be6a71b86e59"
      },
      "source": [
        "output.isnull().sum()"
      ],
      "execution_count": 83,
      "outputs": [
        {
          "output_type": "execute_result",
          "data": {
            "text/plain": [
              "login_hash          0\n",
              "ticket_hash         0\n",
              "server_hash         0\n",
              "symbol              0\n",
              "digits              0\n",
              "cmd                 0\n",
              "volume              0\n",
              "open_time           0\n",
              "open_price          0\n",
              "close_time          0\n",
              "contractsize        7\n",
              "login_hash      91953\n",
              "country_hash    91953\n",
              "currency        91953\n",
              "enable          91953\n",
              "dtype: int64"
            ]
          },
          "metadata": {},
          "execution_count": 83
        }
      ]
    },
    {
      "cell_type": "markdown",
      "metadata": {
        "id": "DoxBpTZZSAvN"
      },
      "source": [
        "**Users table is not very useful as the login_hash joined with only 8% of the trades.**"
      ]
    },
    {
      "cell_type": "code",
      "metadata": {
        "colab": {
          "base_uri": "https://localhost:8080/"
        },
        "id": "KfZnajK9Rb0g",
        "outputId": "9ca1fa7d-3903-440a-fc8e-3f7b4f4961d2"
      },
      "source": [
        "output.dtypes"
      ],
      "execution_count": 84,
      "outputs": [
        {
          "output_type": "execute_result",
          "data": {
            "text/plain": [
              "login_hash              object\n",
              "ticket_hash             object\n",
              "server_hash             object\n",
              "symbol                  object\n",
              "digits                   int64\n",
              "cmd                      int64\n",
              "volume                   int64\n",
              "open_time       datetime64[ns]\n",
              "open_price             float64\n",
              "close_time      datetime64[ns]\n",
              "contractsize           float64\n",
              "login_hash              object\n",
              "country_hash            object\n",
              "currency                object\n",
              "enable                 float64\n",
              "dtype: object"
            ]
          },
          "metadata": {},
          "execution_count": 84
        }
      ]
    },
    {
      "cell_type": "code",
      "metadata": {
        "colab": {
          "base_uri": "https://localhost:8080/",
          "height": 520
        },
        "id": "7iW5DMncRb0g",
        "scrolled": true,
        "outputId": "e5d407b9-bf31-4907-ec59-5dea2b3f41c2"
      },
      "source": [
        "output[ output.contractsize.isnull() ]"
      ],
      "execution_count": 85,
      "outputs": [
        {
          "output_type": "execute_result",
          "data": {
            "text/html": [
              "<div>\n",
              "<style scoped>\n",
              "    .dataframe tbody tr th:only-of-type {\n",
              "        vertical-align: middle;\n",
              "    }\n",
              "\n",
              "    .dataframe tbody tr th {\n",
              "        vertical-align: top;\n",
              "    }\n",
              "\n",
              "    .dataframe thead th {\n",
              "        text-align: right;\n",
              "    }\n",
              "</style>\n",
              "<table border=\"1\" class=\"dataframe\">\n",
              "  <thead>\n",
              "    <tr style=\"text-align: right;\">\n",
              "      <th></th>\n",
              "      <th>login_hash</th>\n",
              "      <th>ticket_hash</th>\n",
              "      <th>server_hash</th>\n",
              "      <th>symbol</th>\n",
              "      <th>digits</th>\n",
              "      <th>cmd</th>\n",
              "      <th>volume</th>\n",
              "      <th>open_time</th>\n",
              "      <th>open_price</th>\n",
              "      <th>close_time</th>\n",
              "      <th>contractsize</th>\n",
              "      <th>login_hash</th>\n",
              "      <th>country_hash</th>\n",
              "      <th>currency</th>\n",
              "      <th>enable</th>\n",
              "    </tr>\n",
              "  </thead>\n",
              "  <tbody>\n",
              "    <tr>\n",
              "      <th>1983</th>\n",
              "      <td>D33487486545A737682F7D1E5ECEABD8</td>\n",
              "      <td>EFC383645A70715146570CF4B4AF2607</td>\n",
              "      <td>2F1CA40D76D7E6165DBA3924CE0D3B5C</td>\n",
              "      <td>COFFEE</td>\n",
              "      <td>2</td>\n",
              "      <td>1</td>\n",
              "      <td>100</td>\n",
              "      <td>2020-08-31 18:32:06</td>\n",
              "      <td>127.67</td>\n",
              "      <td>2020-08-31 19:26:24</td>\n",
              "      <td>NaN</td>\n",
              "      <td>None</td>\n",
              "      <td>None</td>\n",
              "      <td>None</td>\n",
              "      <td>NaN</td>\n",
              "    </tr>\n",
              "    <tr>\n",
              "      <th>21147</th>\n",
              "      <td>32DE9EECD10691C33D28F716CC255364</td>\n",
              "      <td>7EB45147326758A1128032D6D67E2235</td>\n",
              "      <td>3D1F7E00251C43107EF39F55300781DB</td>\n",
              "      <td>COFFEE</td>\n",
              "      <td>2</td>\n",
              "      <td>0</td>\n",
              "      <td>100</td>\n",
              "      <td>2020-08-11 16:33:22</td>\n",
              "      <td>112.89</td>\n",
              "      <td>2020-08-12 16:51:29</td>\n",
              "      <td>NaN</td>\n",
              "      <td>None</td>\n",
              "      <td>None</td>\n",
              "      <td>None</td>\n",
              "      <td>NaN</td>\n",
              "    </tr>\n",
              "    <tr>\n",
              "      <th>71966</th>\n",
              "      <td>87664AA1F50A83BB2429989AA470A167</td>\n",
              "      <td>DDBAA964028BEBBDFF5EC91F9C268829</td>\n",
              "      <td>3D1F7E00251C43107EF39F55300781DB</td>\n",
              "      <td>COFFEE</td>\n",
              "      <td>2</td>\n",
              "      <td>0</td>\n",
              "      <td>100</td>\n",
              "      <td>2020-08-03 13:43:47</td>\n",
              "      <td>118.95</td>\n",
              "      <td>2020-08-05 16:18:59</td>\n",
              "      <td>NaN</td>\n",
              "      <td>None</td>\n",
              "      <td>None</td>\n",
              "      <td>None</td>\n",
              "      <td>NaN</td>\n",
              "    </tr>\n",
              "    <tr>\n",
              "      <th>92551</th>\n",
              "      <td>2BCA9F6675B4F907E51DE5570E443D2B</td>\n",
              "      <td>EE9AA9FD12760CDD3F86FE72F84CFD0A</td>\n",
              "      <td>2F1CA40D76D7E6165DBA3924CE0D3B5C</td>\n",
              "      <td>COFFEE</td>\n",
              "      <td>2</td>\n",
              "      <td>1</td>\n",
              "      <td>100</td>\n",
              "      <td>2020-08-17 12:10:50</td>\n",
              "      <td>115.55</td>\n",
              "      <td>2020-08-17 14:54:03</td>\n",
              "      <td>NaN</td>\n",
              "      <td>None</td>\n",
              "      <td>None</td>\n",
              "      <td>None</td>\n",
              "      <td>NaN</td>\n",
              "    </tr>\n",
              "    <tr>\n",
              "      <th>92552</th>\n",
              "      <td>2BCA9F6675B4F907E51DE5570E443D2B</td>\n",
              "      <td>87E404EF518982E7B276442506AFF3B4</td>\n",
              "      <td>2F1CA40D76D7E6165DBA3924CE0D3B5C</td>\n",
              "      <td>COFFEE</td>\n",
              "      <td>2</td>\n",
              "      <td>1</td>\n",
              "      <td>100</td>\n",
              "      <td>2020-08-19 13:59:06</td>\n",
              "      <td>121.68</td>\n",
              "      <td>2020-08-19 15:13:10</td>\n",
              "      <td>NaN</td>\n",
              "      <td>None</td>\n",
              "      <td>None</td>\n",
              "      <td>None</td>\n",
              "      <td>NaN</td>\n",
              "    </tr>\n",
              "    <tr>\n",
              "      <th>92559</th>\n",
              "      <td>2BCA9F6675B4F907E51DE5570E443D2B</td>\n",
              "      <td>3A4199B38A115C61789D3611B1490381</td>\n",
              "      <td>2F1CA40D76D7E6165DBA3924CE0D3B5C</td>\n",
              "      <td>COFFEE</td>\n",
              "      <td>2</td>\n",
              "      <td>0</td>\n",
              "      <td>100</td>\n",
              "      <td>2020-08-14 17:04:35</td>\n",
              "      <td>118.54</td>\n",
              "      <td>2020-08-14 19:51:32</td>\n",
              "      <td>NaN</td>\n",
              "      <td>None</td>\n",
              "      <td>None</td>\n",
              "      <td>None</td>\n",
              "      <td>NaN</td>\n",
              "    </tr>\n",
              "    <tr>\n",
              "      <th>92560</th>\n",
              "      <td>2BCA9F6675B4F907E51DE5570E443D2B</td>\n",
              "      <td>B883EA07D74C0EB619A7ECC92F59312C</td>\n",
              "      <td>2F1CA40D76D7E6165DBA3924CE0D3B5C</td>\n",
              "      <td>COFFEE</td>\n",
              "      <td>2</td>\n",
              "      <td>1</td>\n",
              "      <td>100</td>\n",
              "      <td>2020-08-19 15:46:03</td>\n",
              "      <td>121.37</td>\n",
              "      <td>2020-08-19 16:26:32</td>\n",
              "      <td>NaN</td>\n",
              "      <td>None</td>\n",
              "      <td>None</td>\n",
              "      <td>None</td>\n",
              "      <td>NaN</td>\n",
              "    </tr>\n",
              "  </tbody>\n",
              "</table>\n",
              "</div>"
            ],
            "text/plain": [
              "                             login_hash  ... enable\n",
              "1983   D33487486545A737682F7D1E5ECEABD8  ...    NaN\n",
              "21147  32DE9EECD10691C33D28F716CC255364  ...    NaN\n",
              "71966  87664AA1F50A83BB2429989AA470A167  ...    NaN\n",
              "92551  2BCA9F6675B4F907E51DE5570E443D2B  ...    NaN\n",
              "92552  2BCA9F6675B4F907E51DE5570E443D2B  ...    NaN\n",
              "92559  2BCA9F6675B4F907E51DE5570E443D2B  ...    NaN\n",
              "92560  2BCA9F6675B4F907E51DE5570E443D2B  ...    NaN\n",
              "\n",
              "[7 rows x 15 columns]"
            ]
          },
          "metadata": {},
          "execution_count": 85
        }
      ]
    },
    {
      "cell_type": "markdown",
      "metadata": {
        "id": "Nmdyi5Z_Rb0h"
      },
      "source": [
        "## Removing the users table joined as it is not useful"
      ]
    },
    {
      "cell_type": "code",
      "metadata": {
        "id": "TY9p5ZWrRb0h"
      },
      "source": [
        "output.drop(columns=['country_hash','currency','enable'], axis=1, inplace=True)"
      ],
      "execution_count": 86,
      "outputs": []
    },
    {
      "cell_type": "code",
      "metadata": {
        "id": "qslWSf0CRb0h"
      },
      "source": [
        "df = output.iloc[:, :-1] #removing the duplicate column login_hash from users table part\n",
        "# Do not run this twice, should be made reproducible"
      ],
      "execution_count": 87,
      "outputs": []
    },
    {
      "cell_type": "code",
      "metadata": {
        "colab": {
          "base_uri": "https://localhost:8080/",
          "height": 198
        },
        "id": "jaxUSMokRb0i",
        "outputId": "2f7435b1-4e3b-4786-dc73-978f4a3dd5e6"
      },
      "source": [
        "df.head(2)"
      ],
      "execution_count": 88,
      "outputs": [
        {
          "output_type": "execute_result",
          "data": {
            "text/html": [
              "<div>\n",
              "<style scoped>\n",
              "    .dataframe tbody tr th:only-of-type {\n",
              "        vertical-align: middle;\n",
              "    }\n",
              "\n",
              "    .dataframe tbody tr th {\n",
              "        vertical-align: top;\n",
              "    }\n",
              "\n",
              "    .dataframe thead th {\n",
              "        text-align: right;\n",
              "    }\n",
              "</style>\n",
              "<table border=\"1\" class=\"dataframe\">\n",
              "  <thead>\n",
              "    <tr style=\"text-align: right;\">\n",
              "      <th></th>\n",
              "      <th>login_hash</th>\n",
              "      <th>ticket_hash</th>\n",
              "      <th>server_hash</th>\n",
              "      <th>symbol</th>\n",
              "      <th>digits</th>\n",
              "      <th>cmd</th>\n",
              "      <th>volume</th>\n",
              "      <th>open_time</th>\n",
              "      <th>open_price</th>\n",
              "      <th>close_time</th>\n",
              "      <th>contractsize</th>\n",
              "    </tr>\n",
              "  </thead>\n",
              "  <tbody>\n",
              "    <tr>\n",
              "      <th>0</th>\n",
              "      <td>58147CEE6BFB8404D6A78B1AF504DF3B</td>\n",
              "      <td>ACA5E99A3D0756083E96247BDC158E47</td>\n",
              "      <td>3D1F7E00251C43107EF39F55300781DB</td>\n",
              "      <td>GBPCAD</td>\n",
              "      <td>5</td>\n",
              "      <td>1</td>\n",
              "      <td>1</td>\n",
              "      <td>2020-08-14 05:55:22</td>\n",
              "      <td>1.72662</td>\n",
              "      <td>2020-08-14 08:02:13</td>\n",
              "      <td>100000.0</td>\n",
              "    </tr>\n",
              "    <tr>\n",
              "      <th>1</th>\n",
              "      <td>58147CEE6BFB8404D6A78B1AF504DF3B</td>\n",
              "      <td>D3DCFA225F910CDF253E83EEBDD34928</td>\n",
              "      <td>3D1F7E00251C43107EF39F55300781DB</td>\n",
              "      <td>GBPCAD</td>\n",
              "      <td>5</td>\n",
              "      <td>1</td>\n",
              "      <td>1</td>\n",
              "      <td>2020-08-13 18:29:38</td>\n",
              "      <td>1.72811</td>\n",
              "      <td>2020-08-13 19:52:15</td>\n",
              "      <td>100000.0</td>\n",
              "    </tr>\n",
              "  </tbody>\n",
              "</table>\n",
              "</div>"
            ],
            "text/plain": [
              "                         login_hash  ... contractsize\n",
              "0  58147CEE6BFB8404D6A78B1AF504DF3B  ...     100000.0\n",
              "1  58147CEE6BFB8404D6A78B1AF504DF3B  ...     100000.0\n",
              "\n",
              "[2 rows x 11 columns]"
            ]
          },
          "metadata": {},
          "execution_count": 88
        }
      ]
    },
    {
      "cell_type": "code",
      "metadata": {
        "id": "Mud967EGRb0i"
      },
      "source": [
        "# output[ output.login_hash == '2BCA9F6675B4F907E51DE5570E443D2B']"
      ],
      "execution_count": 89,
      "outputs": []
    },
    {
      "cell_type": "markdown",
      "metadata": {
        "id": "nC3AzUQ3Rb0j"
      },
      "source": [
        "## Observation\n",
        "1. The user table does not have all the users data. About 8% of the login_hash IDs match. Not very useful, so won't bother clustering on country, currency etc. In fact the users table is not that useful at all.\n",
        "2. Imputing Contractsize (using KNN imputer or others) might not be a good idea, as it is not dependant on any other variable. Will remove these rows entirely."
      ]
    },
    {
      "cell_type": "code",
      "metadata": {
        "colab": {
          "base_uri": "https://localhost:8080/"
        },
        "id": "23s3TrK_Rb0j",
        "outputId": "5727a76d-661c-4747-e392-bb990e8475bf"
      },
      "source": [
        "df.shape"
      ],
      "execution_count": 90,
      "outputs": [
        {
          "output_type": "execute_result",
          "data": {
            "text/plain": [
              "(100000, 11)"
            ]
          },
          "metadata": {},
          "execution_count": 90
        }
      ]
    },
    {
      "cell_type": "code",
      "metadata": {
        "id": "LCanp_4XRb0k"
      },
      "source": [
        "df = df[~df.contractsize.isna()]"
      ],
      "execution_count": 91,
      "outputs": []
    },
    {
      "cell_type": "code",
      "metadata": {
        "colab": {
          "base_uri": "https://localhost:8080/"
        },
        "id": "wbxeAzNDRb0k",
        "outputId": "d433cc9b-a3fa-452e-b9da-d40cfb979cf8"
      },
      "source": [
        "df.shape"
      ],
      "execution_count": 92,
      "outputs": [
        {
          "output_type": "execute_result",
          "data": {
            "text/plain": [
              "(99993, 11)"
            ]
          },
          "metadata": {},
          "execution_count": 92
        }
      ]
    },
    {
      "cell_type": "markdown",
      "metadata": {
        "id": "guXQr8KsRb0k"
      },
      "source": [
        "# Goal\n",
        "You are also required to produce a simple K-Means clustering of the users. Assign each user to a single\n",
        "cluster. Describe your choice for K and your logic for any pre-processing you have done. Please include\n",
        "a performance evaluation. Present a frequency histogram for how many users are assigned to each cluster.\n",
        "Please also provide a 3-D interactive graph using three principal components for the axis and the cluster\n",
        "for the data point colour.\n",
        "\n",
        "\n",
        "Your EDA should demonstrate your skill set, it should highlight novel findings about the data\n",
        "and it will show your ability to analyse and tell stories with data. Please pay attention to\n",
        "code quality and make sure you identify any issues with the data. "
      ]
    },
    {
      "cell_type": "markdown",
      "metadata": {
        "id": "SR4aTHZqRb0l"
      },
      "source": [
        "## More EDA in pandas"
      ]
    },
    {
      "cell_type": "code",
      "metadata": {
        "colab": {
          "base_uri": "https://localhost:8080/",
          "height": 203
        },
        "id": "GEP_lPhTRb0l",
        "outputId": "63f38cdc-7123-40f8-edff-ae6e88edd2a7"
      },
      "source": [
        "df.describe().transpose()"
      ],
      "execution_count": 93,
      "outputs": [
        {
          "output_type": "execute_result",
          "data": {
            "text/html": [
              "<div>\n",
              "<style scoped>\n",
              "    .dataframe tbody tr th:only-of-type {\n",
              "        vertical-align: middle;\n",
              "    }\n",
              "\n",
              "    .dataframe tbody tr th {\n",
              "        vertical-align: top;\n",
              "    }\n",
              "\n",
              "    .dataframe thead th {\n",
              "        text-align: right;\n",
              "    }\n",
              "</style>\n",
              "<table border=\"1\" class=\"dataframe\">\n",
              "  <thead>\n",
              "    <tr style=\"text-align: right;\">\n",
              "      <th></th>\n",
              "      <th>count</th>\n",
              "      <th>mean</th>\n",
              "      <th>std</th>\n",
              "      <th>min</th>\n",
              "      <th>25%</th>\n",
              "      <th>50%</th>\n",
              "      <th>75%</th>\n",
              "      <th>max</th>\n",
              "    </tr>\n",
              "  </thead>\n",
              "  <tbody>\n",
              "    <tr>\n",
              "      <th>digits</th>\n",
              "      <td>99993.0</td>\n",
              "      <td>3.214335</td>\n",
              "      <td>1.463187</td>\n",
              "      <td>0.00000</td>\n",
              "      <td>2.00000</td>\n",
              "      <td>2.00</td>\n",
              "      <td>5.00</td>\n",
              "      <td>5.0</td>\n",
              "    </tr>\n",
              "    <tr>\n",
              "      <th>cmd</th>\n",
              "      <td>99993.0</td>\n",
              "      <td>0.448161</td>\n",
              "      <td>0.497308</td>\n",
              "      <td>0.00000</td>\n",
              "      <td>0.00000</td>\n",
              "      <td>0.00</td>\n",
              "      <td>1.00</td>\n",
              "      <td>1.0</td>\n",
              "    </tr>\n",
              "    <tr>\n",
              "      <th>volume</th>\n",
              "      <td>99993.0</td>\n",
              "      <td>17.980909</td>\n",
              "      <td>100.439958</td>\n",
              "      <td>0.00000</td>\n",
              "      <td>1.00000</td>\n",
              "      <td>3.00</td>\n",
              "      <td>10.00</td>\n",
              "      <td>10000.0</td>\n",
              "    </tr>\n",
              "    <tr>\n",
              "      <th>open_price</th>\n",
              "      <td>99993.0</td>\n",
              "      <td>1262.624992</td>\n",
              "      <td>2585.183078</td>\n",
              "      <td>0.59167</td>\n",
              "      <td>1.19093</td>\n",
              "      <td>1887.73</td>\n",
              "      <td>1967.16</td>\n",
              "      <td>28795.0</td>\n",
              "    </tr>\n",
              "    <tr>\n",
              "      <th>contractsize</th>\n",
              "      <td>99993.0</td>\n",
              "      <td>44856.840239</td>\n",
              "      <td>49669.111281</td>\n",
              "      <td>1.00000</td>\n",
              "      <td>100.00000</td>\n",
              "      <td>100.00</td>\n",
              "      <td>100000.00</td>\n",
              "      <td>100000.0</td>\n",
              "    </tr>\n",
              "  </tbody>\n",
              "</table>\n",
              "</div>"
            ],
            "text/plain": [
              "                count          mean           std  ...      50%        75%       max\n",
              "digits        99993.0      3.214335      1.463187  ...     2.00       5.00       5.0\n",
              "cmd           99993.0      0.448161      0.497308  ...     0.00       1.00       1.0\n",
              "volume        99993.0     17.980909    100.439958  ...     3.00      10.00   10000.0\n",
              "open_price    99993.0   1262.624992   2585.183078  ...  1887.73    1967.16   28795.0\n",
              "contractsize  99993.0  44856.840239  49669.111281  ...   100.00  100000.00  100000.0\n",
              "\n",
              "[5 rows x 8 columns]"
            ]
          },
          "metadata": {},
          "execution_count": 93
        }
      ]
    },
    {
      "cell_type": "code",
      "metadata": {
        "colab": {
          "base_uri": "https://localhost:8080/",
          "height": 172
        },
        "id": "X9VGdZTfRb0l",
        "scrolled": true,
        "outputId": "b221a5b7-7ac3-4d57-bbf3-7da02d73cc4f"
      },
      "source": [
        "df.describe(include= np.object).transpose()"
      ],
      "execution_count": 94,
      "outputs": [
        {
          "output_type": "execute_result",
          "data": {
            "text/html": [
              "<div>\n",
              "<style scoped>\n",
              "    .dataframe tbody tr th:only-of-type {\n",
              "        vertical-align: middle;\n",
              "    }\n",
              "\n",
              "    .dataframe tbody tr th {\n",
              "        vertical-align: top;\n",
              "    }\n",
              "\n",
              "    .dataframe thead th {\n",
              "        text-align: right;\n",
              "    }\n",
              "</style>\n",
              "<table border=\"1\" class=\"dataframe\">\n",
              "  <thead>\n",
              "    <tr style=\"text-align: right;\">\n",
              "      <th></th>\n",
              "      <th>count</th>\n",
              "      <th>unique</th>\n",
              "      <th>top</th>\n",
              "      <th>freq</th>\n",
              "    </tr>\n",
              "  </thead>\n",
              "  <tbody>\n",
              "    <tr>\n",
              "      <th>login_hash</th>\n",
              "      <td>99993</td>\n",
              "      <td>5142</td>\n",
              "      <td>18D4C2E739573770F9DF198F0E51C1B9</td>\n",
              "      <td>1223</td>\n",
              "    </tr>\n",
              "    <tr>\n",
              "      <th>ticket_hash</th>\n",
              "      <td>99993</td>\n",
              "      <td>99993</td>\n",
              "      <td>C5F5A8E938AADB4781DF66BB50BEAE38</td>\n",
              "      <td>1</td>\n",
              "    </tr>\n",
              "    <tr>\n",
              "      <th>server_hash</th>\n",
              "      <td>99993</td>\n",
              "      <td>3</td>\n",
              "      <td>2F1CA40D76D7E6165DBA3924CE0D3B5C</td>\n",
              "      <td>81059</td>\n",
              "    </tr>\n",
              "    <tr>\n",
              "      <th>symbol</th>\n",
              "      <td>99993</td>\n",
              "      <td>70</td>\n",
              "      <td>XAUUSD</td>\n",
              "      <td>49165</td>\n",
              "    </tr>\n",
              "  </tbody>\n",
              "</table>\n",
              "</div>"
            ],
            "text/plain": [
              "             count unique                               top   freq\n",
              "login_hash   99993   5142  18D4C2E739573770F9DF198F0E51C1B9   1223\n",
              "ticket_hash  99993  99993  C5F5A8E938AADB4781DF66BB50BEAE38      1\n",
              "server_hash  99993      3  2F1CA40D76D7E6165DBA3924CE0D3B5C  81059\n",
              "symbol       99993     70                            XAUUSD  49165"
            ]
          },
          "metadata": {},
          "execution_count": 94
        }
      ]
    },
    {
      "cell_type": "markdown",
      "metadata": {
        "id": "BOsOgt9fRb0m"
      },
      "source": [
        "## Reset the data type to save memory"
      ]
    },
    {
      "cell_type": "code",
      "metadata": {
        "id": "yUSWn42FRb0m"
      },
      "source": [
        "dtype_given = {'server_hash': 'category',\n",
        " 'symbol': 'category',\n",
        " 'contractsize':  'int64',\n",
        " 'volume': 'int64',\n",
        "  'cmd': 'bool',\n",
        "'digits': 'int64'\n",
        "              }\n",
        "df = df.astype(dtype_given)"
      ],
      "execution_count": 95,
      "outputs": []
    },
    {
      "cell_type": "markdown",
      "metadata": {
        "id": "xFudarWJRb0m"
      },
      "source": [
        "## K Means"
      ]
    },
    {
      "cell_type": "code",
      "metadata": {
        "id": "pfQADlMLRb0m"
      },
      "source": [
        "from sklearn.cluster import KMeans\n",
        "from sklearn.preprocessing import StandardScaler\n",
        "from sklearn.pipeline import Pipeline"
      ],
      "execution_count": 96,
      "outputs": []
    },
    {
      "cell_type": "code",
      "metadata": {
        "colab": {
          "base_uri": "https://localhost:8080/",
          "height": 198
        },
        "id": "_9ylXxSFRb0m",
        "outputId": "70815d04-d949-4367-995a-7577dcd58fa5"
      },
      "source": [
        "df.head(2)"
      ],
      "execution_count": 97,
      "outputs": [
        {
          "output_type": "execute_result",
          "data": {
            "text/html": [
              "<div>\n",
              "<style scoped>\n",
              "    .dataframe tbody tr th:only-of-type {\n",
              "        vertical-align: middle;\n",
              "    }\n",
              "\n",
              "    .dataframe tbody tr th {\n",
              "        vertical-align: top;\n",
              "    }\n",
              "\n",
              "    .dataframe thead th {\n",
              "        text-align: right;\n",
              "    }\n",
              "</style>\n",
              "<table border=\"1\" class=\"dataframe\">\n",
              "  <thead>\n",
              "    <tr style=\"text-align: right;\">\n",
              "      <th></th>\n",
              "      <th>login_hash</th>\n",
              "      <th>ticket_hash</th>\n",
              "      <th>server_hash</th>\n",
              "      <th>symbol</th>\n",
              "      <th>digits</th>\n",
              "      <th>cmd</th>\n",
              "      <th>volume</th>\n",
              "      <th>open_time</th>\n",
              "      <th>open_price</th>\n",
              "      <th>close_time</th>\n",
              "      <th>contractsize</th>\n",
              "    </tr>\n",
              "  </thead>\n",
              "  <tbody>\n",
              "    <tr>\n",
              "      <th>0</th>\n",
              "      <td>58147CEE6BFB8404D6A78B1AF504DF3B</td>\n",
              "      <td>ACA5E99A3D0756083E96247BDC158E47</td>\n",
              "      <td>3D1F7E00251C43107EF39F55300781DB</td>\n",
              "      <td>GBPCAD</td>\n",
              "      <td>5</td>\n",
              "      <td>True</td>\n",
              "      <td>1</td>\n",
              "      <td>2020-08-14 05:55:22</td>\n",
              "      <td>1.72662</td>\n",
              "      <td>2020-08-14 08:02:13</td>\n",
              "      <td>100000</td>\n",
              "    </tr>\n",
              "    <tr>\n",
              "      <th>1</th>\n",
              "      <td>58147CEE6BFB8404D6A78B1AF504DF3B</td>\n",
              "      <td>D3DCFA225F910CDF253E83EEBDD34928</td>\n",
              "      <td>3D1F7E00251C43107EF39F55300781DB</td>\n",
              "      <td>GBPCAD</td>\n",
              "      <td>5</td>\n",
              "      <td>True</td>\n",
              "      <td>1</td>\n",
              "      <td>2020-08-13 18:29:38</td>\n",
              "      <td>1.72811</td>\n",
              "      <td>2020-08-13 19:52:15</td>\n",
              "      <td>100000</td>\n",
              "    </tr>\n",
              "  </tbody>\n",
              "</table>\n",
              "</div>"
            ],
            "text/plain": [
              "                         login_hash  ... contractsize\n",
              "0  58147CEE6BFB8404D6A78B1AF504DF3B  ...       100000\n",
              "1  58147CEE6BFB8404D6A78B1AF504DF3B  ...       100000\n",
              "\n",
              "[2 rows x 11 columns]"
            ]
          },
          "metadata": {},
          "execution_count": 97
        }
      ]
    },
    {
      "cell_type": "code",
      "metadata": {
        "id": "0n9Ec3dQRb0n"
      },
      "source": [
        "df['interval_hour'] = (df.close_time - df.open_time).dt.seconds / 3600"
      ],
      "execution_count": 98,
      "outputs": []
    },
    {
      "cell_type": "code",
      "metadata": {
        "id": "kUUh877KRb0n"
      },
      "source": [
        "valid_columns = ['symbol','digits', 'cmd','volume', 'open_price','contractsize','interval_hour','server_hash']\n",
        "categ_columns = ['symbol','server_hash']\n",
        "df = df[valid_columns]"
      ],
      "execution_count": 99,
      "outputs": []
    },
    {
      "cell_type": "markdown",
      "metadata": {
        "id": "RlxADaorRb0r"
      },
      "source": [
        "## ScatterPlot and Histograms"
      ]
    },
    {
      "cell_type": "code",
      "metadata": {
        "colab": {
          "base_uri": "https://localhost:8080/",
          "height": 1000
        },
        "id": "dtE_nVm9Rb0s",
        "outputId": "de1b4cbd-03d2-4d1b-c8b3-3f273f36a288"
      },
      "source": [
        "import seaborn as sns\n",
        "plt.rcParams[\"figure.figsize\"] = (8,8)\n",
        "sns.pairplot(data=df)"
      ],
      "execution_count": 100,
      "outputs": [
        {
          "output_type": "stream",
          "name": "stderr",
          "text": [
            "<string>:6: RuntimeWarning:\n",
            "\n",
            "Converting input from bool to <class 'numpy.uint8'> for compatibility.\n",
            "\n",
            "<string>:6: RuntimeWarning:\n",
            "\n",
            "Converting input from bool to <class 'numpy.uint8'> for compatibility.\n",
            "\n"
          ]
        },
        {
          "output_type": "execute_result",
          "data": {
            "text/plain": [
              "<seaborn.axisgrid.PairGrid at 0x7fac289e9150>"
            ]
          },
          "metadata": {},
          "execution_count": 100
        },
        {
          "output_type": "display_data",
          "data": {
            "image/png": "[encoded data removed]",
            "text/plain": [
              "<Figure size 1080x1080 with 42 Axes>"
            ]
          },
          "metadata": {
            "needs_background": "light"
          }
        }
      ]
    },
    {
      "cell_type": "markdown",
      "metadata": {
        "id": "DPkQBkZAo5bs"
      },
      "source": [
        "## Observation:\n",
        "- Features not highly correlated\n",
        "- They  look independant also"
      ]
    },
    {
      "cell_type": "code",
      "metadata": {
        "id": "p9oOM-d7Rb0s"
      },
      "source": [
        "import copy\n",
        "df_woh = copy.deepcopy(df)\n",
        "df = pd.get_dummies(df, prefix='FromTo', prefix_sep='_', dummy_na=True, columns=categ_columns  )"
      ],
      "execution_count": 101,
      "outputs": []
    },
    {
      "cell_type": "markdown",
      "metadata": {
        "id": "K4REfykbRb0t"
      },
      "source": [
        "## K means logic\n",
        "- Will not use login_hash and ticket_hash as they are unique identifiers and won't help cluster similar points.\n",
        "- Open time and close time are dates, which will not be very important as investment does not have a season generally.\n",
        "- The interval between the open and close time will be considered ( in hours)\n",
        "- Will run with value of k between 2 to 8, and then use silhouette method to choose K."
      ]
    },
    {
      "cell_type": "code",
      "metadata": {
        "id": "Kvuc44Z5iu4R"
      },
      "source": [
        "pipeline = Pipeline([('scaler', StandardScaler()), ('svc', KMeans())]) # create a pipeline\n",
        "scaled = StandardScaler().fit_transform(df)  # Get just the scaled version of variables"
      ],
      "execution_count": 102,
      "outputs": []
    },
    {
      "cell_type": "code",
      "metadata": {
        "colab": {
          "base_uri": "https://localhost:8080/"
        },
        "id": "hlEX8LX7Rb0t",
        "scrolled": true,
        "outputId": "7211e10a-d639-4795-a76f-53effb3cd023"
      },
      "source": [
        "kmfit = pipeline.fit_predict( df)  # fit the pipeline\n",
        "np.unique(kmfit, return_counts=True) # count records in each cluster"
      ],
      "execution_count": 103,
      "outputs": [
        {
          "output_type": "execute_result",
          "data": {
            "text/plain": [
              "(array([0, 1, 2, 3, 4, 5, 6, 7], dtype=int32),\n",
              " array([54638,   567, 38545,   877,  1989,   474,  1100,  1803]))"
            ]
          },
          "metadata": {},
          "execution_count": 103
        }
      ]
    },
    {
      "cell_type": "markdown",
      "metadata": {
        "id": "EbLNogWlRb0u"
      },
      "source": [
        "- **2 of the clusters are biggest than rest**\n",
        "**Fit works, so trying siloheutte method to find optimal K**\n",
        "- Code taken from [Here](https://dzone.com/articles/kmeans-silhouette-score-explained-with-python-exam)"
      ]
    },
    {
      "cell_type": "code",
      "metadata": {
        "id": "OU1aJsDWn52i"
      },
      "source": [
        ""
      ],
      "execution_count": null,
      "outputs": []
    },
    {
      "cell_type": "markdown",
      "metadata": {
        "id": "k1_H9Swpn6h1"
      },
      "source": [
        "- **Will take upto half hour to produce plots**"
      ]
    },
    {
      "cell_type": "code",
      "metadata": {
        "id": "Y6pQf4LVRb0v"
      },
      "source": [
        "from yellowbrick.cluster import SilhouetteVisualizer\n",
        "fig, ax = plt.subplots(2, 3, figsize=(10,15))\n",
        "\n",
        "for i in range(2,8):\n",
        "    '''\n",
        "    Create KMeans instance for different number of clusters\n",
        "    '''\n",
        "    km = KMeans(n_clusters=i, init='k-means++', n_init=10, max_iter=100, random_state=1)\n",
        "    q, mod = divmod(i-2, 3)\n",
        "    '''\n",
        "    Create SilhouetteVisualizer instance with KMeans instance\n",
        "    Fit the visualizer\n",
        "    '''\n",
        "    visualizer = SilhouetteVisualizer(km, colors='yellowbrick', ax=ax[q][mod])\n",
        "    visualizer.fit(scaled)\n",
        "    ax[q][mod].set_title('clusters: '+str(i) )"
      ],
      "execution_count": null,
      "outputs": []
    },
    {
      "cell_type": "markdown",
      "metadata": {
        "id": "5JIrpHWWf_TX"
      },
      "source": [
        "## Observation:\n",
        "- Negative value in silhouette suggesting the clusters are not optimum.\n",
        "- 6 clusters is where I get less records with negative silhouette score"
      ]
    },
    {
      "cell_type": "code",
      "metadata": {
        "id": "uPhNdHTgRb0v"
      },
      "source": [
        "pipeline = Pipeline([('scaler', StandardScaler()), ('kmeans', KMeans(n_clusters=6, random_state=1))])\n",
        "segments_scaled = pipeline.fit_predict(scaled)"
      ],
      "execution_count": null,
      "outputs": []
    },
    {
      "cell_type": "code",
      "metadata": {
        "id": "jbfJLjFMiaBA"
      },
      "source": [
        "from sklearn.metrics import silhouette_score\n",
        "silhouette_score( scaled, pipeline['kmeans'].labels_)"
      ],
      "execution_count": null,
      "outputs": []
    },
    {
      "cell_type": "code",
      "metadata": {
        "id": "iYXd6MhtiCDc"
      },
      "source": [
        "print(scaled.shape)\n",
        "print( segments_scaled.shape)"
      ],
      "execution_count": null,
      "outputs": []
    },
    {
      "cell_type": "markdown",
      "metadata": {
        "id": "R3fcCGmFRb0w"
      },
      "source": [
        "## Histogram part covered by Silhouette"
      ]
    },
    {
      "cell_type": "code",
      "metadata": {
        "id": "LHF0CYMLmPTI"
      },
      "source": [
        "np.unique(segments_scaled, return_counts=True)"
      ],
      "execution_count": null,
      "outputs": []
    },
    {
      "cell_type": "code",
      "metadata": {
        "id": "6be4FgEVmGZz"
      },
      "source": [
        "plt.hist(segments_scaled, range=(0,5), bins=6)"
      ],
      "execution_count": null,
      "outputs": []
    },
    {
      "cell_type": "markdown",
      "metadata": {
        "id": "OeUvEQdKRb0w"
      },
      "source": [
        "## PCA"
      ]
    },
    {
      "cell_type": "code",
      "metadata": {
        "id": "VJYmc9pmRb0x"
      },
      "source": [
        "from sklearn.decomposition import PCA\n",
        "pca = PCA(n_components=20)\n",
        "pca_fit = pca.fit(scaled)"
      ],
      "execution_count": null,
      "outputs": []
    },
    {
      "cell_type": "code",
      "metadata": {
        "id": "B7cHgPysg64a"
      },
      "source": [
        "pca_fit.explained_variance_ratio_"
      ],
      "execution_count": null,
      "outputs": []
    },
    {
      "cell_type": "markdown",
      "metadata": {
        "id": "H5Tl4w_AhlYl"
      },
      "source": [
        "- **PCA is unable to find a good percent of explained variance using a few components. ( The first 3 add up to less than 10%)**"
      ]
    },
    {
      "cell_type": "code",
      "metadata": {
        "id": "z6f89iZkhEyG"
      },
      "source": [
        "pca_3 = pca_fit.transform(scaled)[: , :3]"
      ],
      "execution_count": null,
      "outputs": []
    },
    {
      "cell_type": "code",
      "metadata": {
        "id": "JKfewB25l-kq"
      },
      "source": [
        "plt.hist()"
      ],
      "execution_count": null,
      "outputs": []
    },
    {
      "cell_type": "markdown",
      "metadata": {
        "id": "i94_rqv3k1x4"
      },
      "source": [
        "\n",
        "## Plotly seems to have a nicer 3d rotating plot.\n"
      ]
    },
    {
      "cell_type": "code",
      "metadata": {
        "id": "gtf6JJXPj1C6"
      },
      "source": [
        "import plotly.express as px\n",
        "fig = px.scatter_3d(x= pca_3[: , 0], y=pca_3[: , 1], z=pca_3[: , 2],\n",
        "              color=segments_scaled )\n",
        "fig.show()"
      ],
      "execution_count": null,
      "outputs": []
    },
    {
      "cell_type": "code",
      "metadata": {
        "id": "WknyibfVkK1K"
      },
      "source": [
        ""
      ],
      "execution_count": null,
      "outputs": []
    }
  ]
}