{
  "nbformat": 4,
  "nbformat_minor": 0,
  "metadata": {
    "colab": {
      "name": "Multiply_List.ipynb",
      "provenance": [],
      "authorship_tag": "ABX9TyO6J0X8iAKak/vdUkB85ldM",
      "include_colab_link": true
    },
    "kernelspec": {
      "name": "python3",
      "display_name": "Python 3"
    },
    "language_info": {
      "name": "python"
    }
  },
  "cells": [
    {
      "cell_type": "markdown",
      "metadata": {
        "id": "view-in-github",
        "colab_type": "text"
      },
      "source": [
        "<a href=\"https://colab.research.google.com/github/vsnupoudel/RandomAssignments/blob/main/Multiply_List.ipynb\" target=\"_parent\"><img src=\"https://colab.research.google.com/assets/colab-badge.svg\" alt=\"Open In Colab\"/></a>"
      ]
    },
    {
      "cell_type": "code",
      "metadata": {
        "id": "4jlbIgZeX1kp"
      },
      "source": [
        "intlist = [1, 2, 3, 4, 5, 3, 2,-7,-8, -10, 20]"
      ],
      "execution_count": 2,
      "outputs": []
    },
    {
      "cell_type": "code",
      "metadata": {
        "id": "vuKuAmC_YCgl"
      },
      "source": [
        "import numpy as np"
      ],
      "execution_count": 3,
      "outputs": []
    },
    {
      "cell_type": "code",
      "metadata": {
        "colab": {
          "base_uri": "https://localhost:8080/"
        },
        "id": "Hmy1r-feYKue",
        "outputId": "28b35539-ce97-46fa-f119-1bac0b412ec4"
      },
      "source": [
        "product = [ i*j for i in intlist for j in intlist if j!=i ]\n",
        "np.max(product)"
      ],
      "execution_count": 4,
      "outputs": [
        {
          "output_type": "execute_result",
          "data": {
            "text/plain": [
              "100"
            ]
          },
          "metadata": {},
          "execution_count": 4
        }
      ]
    },
    {
      "cell_type": "markdown",
      "metadata": {
        "id": "IB3zHVee-BkO"
      },
      "source": [
        "## Sort first"
      ]
    },
    {
      "cell_type": "code",
      "metadata": {
        "id": "FxWma16jYZ8b"
      },
      "source": [
        "intlist.sort()"
      ],
      "execution_count": 9,
      "outputs": []
    },
    {
      "cell_type": "code",
      "metadata": {
        "colab": {
          "base_uri": "https://localhost:8080/"
        },
        "id": "NdS9fXbX7rIf",
        "outputId": "3d46642b-3b25-44fc-d287-8586a8dc0991"
      },
      "source": [
        "intlist"
      ],
      "execution_count": 10,
      "outputs": [
        {
          "output_type": "execute_result",
          "data": {
            "text/plain": [
              "[-10, -8, -7, 1, 2, 2, 3, 3, 4, 5, 20]"
            ]
          },
          "metadata": {},
          "execution_count": 10
        }
      ]
    },
    {
      "cell_type": "code",
      "metadata": {
        "colab": {
          "base_uri": "https://localhost:8080/"
        },
        "id": "rheDApzC8tIx",
        "outputId": "c0952c66-1e7a-456a-eaee-ba7b2c019f76"
      },
      "source": [
        "max(  intlist[0] * intlist[1]\n",
        "    , intlist[-1]*  intlist[-2] )"
      ],
      "execution_count": 22,
      "outputs": [
        {
          "output_type": "execute_result",
          "data": {
            "text/plain": [
              "100"
            ]
          },
          "metadata": {},
          "execution_count": 22
        }
      ]
    },
    {
      "cell_type": "code",
      "metadata": {
        "id": "wteXGxHc9IHe"
      },
      "source": [
        ""
      ],
      "execution_count": null,
      "outputs": []
    }
  ]
}