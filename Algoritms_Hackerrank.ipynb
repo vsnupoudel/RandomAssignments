{
  "nbformat": 4,
  "nbformat_minor": 0,
  "metadata": {
    "colab": {
      "name": "Algoritms_Hackerrank.ipynb",
      "provenance": [],
      "authorship_tag": "ABX9TyNrqq3cC+vt7YWGByDDXwPm",
      "include_colab_link": true
    },
    "kernelspec": {
      "name": "python3",
      "display_name": "Python 3"
    },
    "language_info": {
      "name": "python"
    }
  },
  "cells": [
    {
      "cell_type": "markdown",
      "metadata": {
        "id": "view-in-github",
        "colab_type": "text"
      },
      "source": [
        "<a href=\"https://colab.research.google.com/github/vsnupoudel/RandomAssignments/blob/main/Algoritms_Hackerrank.ipynb\" target=\"_parent\"><img src=\"https://colab.research.google.com/assets/colab-badge.svg\" alt=\"Open In Colab\"/></a>"
      ]
    },
    {
      "cell_type": "code",
      "metadata": {
        "colab": {
          "base_uri": "https://localhost:8080/"
        },
        "id": "jYpUidZoSSCs",
        "outputId": "375a1303-d1c5-428d-e55b-b751f5f3b674"
      },
      "source": [
        "while True:\n",
        "  print(1)\n",
        "  break"
      ],
      "execution_count": 1,
      "outputs": [
        {
          "output_type": "stream",
          "name": "stdout",
          "text": [
            "1\n"
          ]
        }
      ]
    },
    {
      "cell_type": "code",
      "metadata": {
        "id": "5sTxuebMSZ_N"
      },
      "source": [
        "# listel = [1,2,3,0,0,9,6,7,8,0,1,2,5,0]\n",
        "final =  list(range(999999))"
      ],
      "execution_count": 10,
      "outputs": []
    },
    {
      "cell_type": "code",
      "metadata": {
        "id": "oQMgsWA1TH2J"
      },
      "source": [
        "# work = filter(lambda x: x!=0, listel ) + filter( lambda x: x==0, listel ) \n",
        "st = list(filter(lambda x: x!=0, final )) + list( filter( lambda x: x==0, final ) )"
      ],
      "execution_count": 11,
      "outputs": []
    },
    {
      "cell_type": "code",
      "metadata": {
        "id": "hXywfXu7TWif",
        "colab": {
          "base_uri": "https://localhost:8080/"
        },
        "outputId": "4cf20b02-6def-475d-be65-2b01739fdd85"
      },
      "source": [
        "len(st)"
      ],
      "execution_count": 12,
      "outputs": [
        {
          "output_type": "execute_result",
          "data": {
            "text/plain": [
              "999999"
            ]
          },
          "metadata": {},
          "execution_count": 12
        }
      ]
    },
    {
      "cell_type": "code",
      "metadata": {
        "colab": {
          "base_uri": "https://localhost:8080/"
        },
        "id": "vAd5WONjIg2R",
        "outputId": "d91cf0cb-ce09-49b2-acc0-4b79578d58e7"
      },
      "source": [
        "list( range(0,5) )"
      ],
      "execution_count": 13,
      "outputs": [
        {
          "output_type": "execute_result",
          "data": {
            "text/plain": [
              "[0, 1, 2, 3, 4]"
            ]
          },
          "metadata": {},
          "execution_count": 13
        }
      ]
    },
    {
      "cell_type": "markdown",
      "source": [
        "**Max points, with skipping**"
      ],
      "metadata": {
        "id": "h39HyWVKPkF3"
      }
    },
    {
      "cell_type": "code",
      "metadata": {
        "id": "uLNJQuYzVmKO"
      },
      "source": [
        "points_list = []\n",
        "def max_points(budget, costs):\n",
        "  expense=0; point = 0\n",
        "  for cost in costs:\n",
        "    expense+= cost\n",
        "    if expense<=budget:\n",
        "      point+=1\n",
        "    else:\n",
        "      points_list.append(point)\n",
        "      break\n",
        "  costs.remove( max(costs[:point])  )\n",
        "  if len(points_list)<=1:\n",
        "    max_points(budget,costs)\n",
        "  return points_list"
      ],
      "execution_count": 69,
      "outputs": []
    },
    {
      "cell_type": "code",
      "metadata": {
        "id": "48kek4rjVpUy",
        "colab": {
          "base_uri": "https://localhost:8080/"
        },
        "outputId": "1bcd41ba-b56b-49ca-f0b4-69e49b52b560"
      },
      "source": [
        "budget = 15\n",
        "costs = [6,3,2,2,6,1,1,3,6]\n",
        "max_points(budget, costs)"
      ],
      "execution_count": 70,
      "outputs": [
        {
          "output_type": "execute_result",
          "data": {
            "text/plain": [
              "[4, 6]"
            ]
          },
          "metadata": {},
          "execution_count": 70
        }
      ]
    },
    {
      "cell_type": "code",
      "source": [
        "points_list"
      ],
      "metadata": {
        "colab": {
          "base_uri": "https://localhost:8080/"
        },
        "id": "Gyaijgh6HWbc",
        "outputId": "8e78a7a6-97a9-4751-e4b7-1b229253fb7c"
      },
      "execution_count": 71,
      "outputs": [
        {
          "output_type": "execute_result",
          "data": {
            "text/plain": [
              "[4, 6]"
            ]
          },
          "metadata": {},
          "execution_count": 71
        }
      ]
    },
    {
      "cell_type": "code",
      "source": [
        ""
      ],
      "metadata": {
        "id": "Ur_CVHsVQ0k7"
      },
      "execution_count": null,
      "outputs": []
    }
  ]
}