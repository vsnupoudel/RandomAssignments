{
  "nbformat": 4,
  "nbformat_minor": 0,
  "metadata": {
    "colab": {
      "name": "Descriptive and Inferential analysis of Menstruation Symptoms",
      "provenance": [],
      "collapsed_sections": [],
      "authorship_tag": "ABX9TyPb0LTtRUGLFUCK2VP0+n4f",
      "include_colab_link": true
    },
    "kernelspec": {
      "name": "python3",
      "display_name": "Python 3"
    },
    "language_info": {
      "name": "python"
    }
  },
  "cells": [
    {
      "cell_type": "markdown",
      "metadata": {
        "id": "view-in-github",
        "colab_type": "text"
      },
      "source": [
        "<a href=\"https://colab.research.google.com/github/vsnupoudel/RandomAssignments/blob/main/Descriptive_and_Inferential_analysis_of_Menstruation_Symptoms.ipynb\" target=\"_parent\"><img src=\"https://colab.research.google.com/assets/colab-badge.svg\" alt=\"Open In Colab\"/></a>"
      ]
    },
    {
      "cell_type": "markdown",
      "metadata": {
        "id": "W9x6D57p4hqY"
      },
      "source": [
        "# Descriptive and Inferential analysis of Menstruation dataset.\n",
        "## Analysis Goals\n",
        "- Find the most severe symptom ( numbers reported not important) \n",
        "- Find most reported Symptom ( severity not important)\n",
        "- Which symptoms occur together ( correlation and co-occurance)\n",
        "- Hypothesis tests to confirm if two symptoms are related ( Chi square test)"
      ]
    },
    {
      "cell_type": "code",
      "metadata": {
        "id": "OUzTOPX5hOeD"
      },
      "source": [
        "import pandas as pd\n",
        "import numpy as np\n",
        "import matplotlib.pyplot as plt\n"
      ],
      "execution_count": 1,
      "outputs": []
    },
    {
      "cell_type": "code",
      "metadata": {
        "id": "Ux0udNl-lYmf"
      },
      "source": [
        "\n",
        "sheet_id = '1_fkJ3eUoBYcsoMgQ8cVJO0ofwX5g308QWOrufYLM54w'\n",
        "sheet_name = 'Symptom'\n",
        "url = f'https://docs.google.com/spreadsheets/d/{sheet_id}/gviz/tq?tqx=out:csv&sheet={sheet_name}'"
      ],
      "execution_count": 2,
      "outputs": []
    },
    {
      "cell_type": "markdown",
      "metadata": {
        "id": "uz4VDR53WuII"
      },
      "source": [
        "Read csv from url, parse the datetime and convert it from UTC to kathmandu time."
      ]
    },
    {
      "cell_type": "code",
      "metadata": {
        "id": "9t6k0RcI2ArZ"
      },
      "source": [
        "headers = ['user_id','acne','backache', 'bloating', 'cramp',\t'diarrhea'\n",
        ",\t'dizzy','headache',\t'mood',\t'nausea',\t'sore', 'date']"
      ],
      "execution_count": 3,
      "outputs": []
    },
    {
      "cell_type": "code",
      "metadata": {
        "id": "t7mpfYObhRDX",
        "colab": {
          "base_uri": "https://localhost:8080/",
          "height": 110
        },
        "outputId": "b85021c9-52ff-4c7b-b977-6c0a77dfd52a"
      },
      "source": [
        "raw_data = pd.read_csv(url , names=headers,  usecols = list(range(2,14)), skiprows=[0,1]\n",
        "                       , parse_dates=['date']\n",
        "                      #  ,  date_parser=lambda col: pd.to_datetime(col) \n",
        "                       )\n",
        "raw_data.head(2)"
      ],
      "execution_count": 4,
      "outputs": [
        {
          "output_type": "execute_result",
          "data": {
            "text/html": [
              "<div>\n",
              "<style scoped>\n",
              "    .dataframe tbody tr th:only-of-type {\n",
              "        vertical-align: middle;\n",
              "    }\n",
              "\n",
              "    .dataframe tbody tr th {\n",
              "        vertical-align: top;\n",
              "    }\n",
              "\n",
              "    .dataframe thead th {\n",
              "        text-align: right;\n",
              "    }\n",
              "</style>\n",
              "<table border=\"1\" class=\"dataframe\">\n",
              "  <thead>\n",
              "    <tr style=\"text-align: right;\">\n",
              "      <th></th>\n",
              "      <th>user_id</th>\n",
              "      <th>acne</th>\n",
              "      <th>backache</th>\n",
              "      <th>bloating</th>\n",
              "      <th>cramp</th>\n",
              "      <th>diarrhea</th>\n",
              "      <th>dizzy</th>\n",
              "      <th>headache</th>\n",
              "      <th>mood</th>\n",
              "      <th>nausea</th>\n",
              "      <th>sore</th>\n",
              "      <th>date</th>\n",
              "    </tr>\n",
              "  </thead>\n",
              "  <tbody>\n",
              "    <tr>\n",
              "      <th>0</th>\n",
              "      <td>257</td>\n",
              "      <td>0</td>\n",
              "      <td>0</td>\n",
              "      <td>0</td>\n",
              "      <td>46</td>\n",
              "      <td>0</td>\n",
              "      <td>0</td>\n",
              "      <td>0</td>\n",
              "      <td>0</td>\n",
              "      <td>0</td>\n",
              "      <td>0</td>\n",
              "      <td>2015-10-04</td>\n",
              "    </tr>\n",
              "    <tr>\n",
              "      <th>1</th>\n",
              "      <td>257</td>\n",
              "      <td>0</td>\n",
              "      <td>0</td>\n",
              "      <td>0</td>\n",
              "      <td>0</td>\n",
              "      <td>0</td>\n",
              "      <td>27</td>\n",
              "      <td>48</td>\n",
              "      <td>0</td>\n",
              "      <td>0</td>\n",
              "      <td>0</td>\n",
              "      <td>2015-11-04</td>\n",
              "    </tr>\n",
              "  </tbody>\n",
              "</table>\n",
              "</div>"
            ],
            "text/plain": [
              "   user_id  acne  backache  bloating  ...  mood  nausea  sore       date\n",
              "0      257     0         0         0  ...     0       0     0 2015-10-04\n",
              "1      257     0         0         0  ...     0       0     0 2015-11-04\n",
              "\n",
              "[2 rows x 12 columns]"
            ]
          },
          "metadata": {},
          "execution_count": 4
        }
      ]
    },
    {
      "cell_type": "code",
      "metadata": {
        "colab": {
          "base_uri": "https://localhost:8080/"
        },
        "id": "Zygud5qjxqWM",
        "outputId": "ec2f7498-e12d-407d-cff7-7d12e0024cff"
      },
      "source": [
        "raw_data.dtypes"
      ],
      "execution_count": 5,
      "outputs": [
        {
          "output_type": "execute_result",
          "data": {
            "text/plain": [
              "user_id              int64\n",
              "acne                 int64\n",
              "backache             int64\n",
              "bloating             int64\n",
              "cramp                int64\n",
              "diarrhea             int64\n",
              "dizzy                int64\n",
              "headache             int64\n",
              "mood                 int64\n",
              "nausea              object\n",
              "sore                 int64\n",
              "date        datetime64[ns]\n",
              "dtype: object"
            ]
          },
          "metadata": {},
          "execution_count": 5
        }
      ]
    },
    {
      "cell_type": "markdown",
      "metadata": {
        "id": "-NE8Ne6xEoRW"
      },
      "source": [
        "Nausea column may have some non numeric value. Converting it to integer ( Could've done in read_csv as well)"
      ]
    },
    {
      "cell_type": "code",
      "metadata": {
        "id": "xr8fXKQuEtpz"
      },
      "source": [
        "raw_data['nausea'] = raw_data['nausea'].astype(int)"
      ],
      "execution_count": 6,
      "outputs": []
    },
    {
      "cell_type": "markdown",
      "metadata": {
        "id": "EHYaVkmHVVIs"
      },
      "source": [
        "Remove duplicated if any, same user ID on same date- multiple entries not allowed"
      ]
    },
    {
      "cell_type": "code",
      "metadata": {
        "colab": {
          "base_uri": "https://localhost:8080/"
        },
        "id": "g8mLM4MGDpKY",
        "outputId": "1e18d30c-41bc-4aef-acbc-8de956363e2d"
      },
      "source": [
        "raw_data.shape"
      ],
      "execution_count": 7,
      "outputs": [
        {
          "output_type": "execute_result",
          "data": {
            "text/plain": [
              "(14511, 12)"
            ]
          },
          "metadata": {},
          "execution_count": 7
        }
      ]
    },
    {
      "cell_type": "code",
      "metadata": {
        "colab": {
          "base_uri": "https://localhost:8080/"
        },
        "id": "6gqQCg61ch_7",
        "outputId": "1d9c746e-bd88-45af-eb07-c920c7dfc5fb"
      },
      "source": [
        "# check for duplicates, and remove duplicate rows\n",
        "nodup_data = raw_data [ ~raw_data.duplicated(subset=['user_id', 'date'], keep='first') ]\n",
        "# nodup_data.set_index('date', inplace=True)\n",
        "nodup_data.shape"
      ],
      "execution_count": 8,
      "outputs": [
        {
          "output_type": "execute_result",
          "data": {
            "text/plain": [
              "(13461, 12)"
            ]
          },
          "metadata": {},
          "execution_count": 8
        }
      ]
    },
    {
      "cell_type": "markdown",
      "metadata": {
        "id": "7dHZ6-akVXLl"
      },
      "source": [
        "Pandas should recognize the time series automatically. \n",
        "Plotting the moving average on one weeks average basis. ( Assuming we have readings every half hour of the day, so 24*2 readings per day)"
      ]
    },
    {
      "cell_type": "code",
      "metadata": {
        "colab": {
          "base_uri": "https://localhost:8080/"
        },
        "id": "REYig-ccRwwa",
        "outputId": "ba7f03f1-5ab6-44f6-82b5-0cc2f996fe81"
      },
      "source": [
        "#  pandas vectorize\n",
        "import copy\n",
        "actual_df = copy.deepcopy( nodup_data)\n",
        "import time\n",
        "start = time.process_time()\n",
        "# nodup_data[ [name for name in nodup_data.columns if name not in['date', 'user_id']] ] \\\n",
        "yes_no_df = nodup_data[  [name for name in nodup_data.columns if name not in['date', 'user_id']]]  > 0\n",
        "yes_no_df = pd.concat( [nodup_data['user_id'], yes_no_df, nodup_data['date'] ] , axis =1)\n",
        "\n",
        "print(time.process_time() - start)"
      ],
      "execution_count": 9,
      "outputs": [
        {
          "output_type": "stream",
          "name": "stdout",
          "text": [
            "0.010529902000000035\n"
          ]
        }
      ]
    },
    {
      "cell_type": "code",
      "metadata": {
        "colab": {
          "base_uri": "https://localhost:8080/",
          "height": 110
        },
        "id": "xdVFg3dUcZcM",
        "outputId": "1cf2052a-b839-44ab-a773-689197903254"
      },
      "source": [
        "yes_no_df.sample(2)\n",
        "# = copy.deepcopy(nodup_data)\n",
        "# del nodup_data"
      ],
      "execution_count": 10,
      "outputs": [
        {
          "output_type": "execute_result",
          "data": {
            "text/html": [
              "<div>\n",
              "<style scoped>\n",
              "    .dataframe tbody tr th:only-of-type {\n",
              "        vertical-align: middle;\n",
              "    }\n",
              "\n",
              "    .dataframe tbody tr th {\n",
              "        vertical-align: top;\n",
              "    }\n",
              "\n",
              "    .dataframe thead th {\n",
              "        text-align: right;\n",
              "    }\n",
              "</style>\n",
              "<table border=\"1\" class=\"dataframe\">\n",
              "  <thead>\n",
              "    <tr style=\"text-align: right;\">\n",
              "      <th></th>\n",
              "      <th>user_id</th>\n",
              "      <th>acne</th>\n",
              "      <th>backache</th>\n",
              "      <th>bloating</th>\n",
              "      <th>cramp</th>\n",
              "      <th>diarrhea</th>\n",
              "      <th>dizzy</th>\n",
              "      <th>headache</th>\n",
              "      <th>mood</th>\n",
              "      <th>nausea</th>\n",
              "      <th>sore</th>\n",
              "      <th>date</th>\n",
              "    </tr>\n",
              "  </thead>\n",
              "  <tbody>\n",
              "    <tr>\n",
              "      <th>2068</th>\n",
              "      <td>2153</td>\n",
              "      <td>False</td>\n",
              "      <td>False</td>\n",
              "      <td>False</td>\n",
              "      <td>False</td>\n",
              "      <td>False</td>\n",
              "      <td>False</td>\n",
              "      <td>False</td>\n",
              "      <td>True</td>\n",
              "      <td>False</td>\n",
              "      <td>False</td>\n",
              "      <td>2016-01-27</td>\n",
              "    </tr>\n",
              "    <tr>\n",
              "      <th>1039</th>\n",
              "      <td>1210</td>\n",
              "      <td>False</td>\n",
              "      <td>True</td>\n",
              "      <td>False</td>\n",
              "      <td>True</td>\n",
              "      <td>False</td>\n",
              "      <td>False</td>\n",
              "      <td>True</td>\n",
              "      <td>False</td>\n",
              "      <td>False</td>\n",
              "      <td>True</td>\n",
              "      <td>2015-11-21</td>\n",
              "    </tr>\n",
              "  </tbody>\n",
              "</table>\n",
              "</div>"
            ],
            "text/plain": [
              "      user_id   acne  backache  bloating  ...   mood  nausea   sore       date\n",
              "2068     2153  False     False     False  ...   True   False  False 2016-01-27\n",
              "1039     1210  False      True     False  ...  False   False   True 2015-11-21\n",
              "\n",
              "[2 rows x 12 columns]"
            ]
          },
          "metadata": {},
          "execution_count": 10
        }
      ]
    },
    {
      "cell_type": "code",
      "metadata": {
        "colab": {
          "base_uri": "https://localhost:8080/",
          "height": 555
        },
        "id": "vzd6EfQOd2Gc",
        "outputId": "c90cf2a1-5e8a-4c04-af65-41421cd73389"
      },
      "source": [
        "plt.rcParams[\"figure.figsize\"] = (12, 8)\n",
        "average_severity =  actual_df.sum()/yes_no_df.sum() \n",
        "average_severity.loc[ average_severity.index!= 'user_id', ].plot.bar(legend= False\n",
        "                                                                     , title='Average Severity'\n",
        "                                                                     ,grid = True)"
      ],
      "execution_count": 11,
      "outputs": [
        {
          "output_type": "execute_result",
          "data": {
            "text/plain": [
              "<matplotlib.axes._subplots.AxesSubplot at 0x7fe0c55f2e50>"
            ]
          },
          "metadata": {},
          "execution_count": 11
        },
        {
          "output_type": "display_data",
          "data": {
            "image/png": "[encoded data removed]",
            "text/plain": [
              "<Figure size 864x576 with 1 Axes>"
            ]
          },
          "metadata": {
            "needs_background": "light"
          }
        }
      ]
    },
    {
      "cell_type": "markdown",
      "metadata": {
        "id": "0m_8t1P7hvFu"
      },
      "source": [
        "- All symptoms seem equally severe, cramps and mood being slightly severe. Acne seems to be the least severe"
      ]
    },
    {
      "cell_type": "code",
      "metadata": {
        "colab": {
          "base_uri": "https://localhost:8080/",
          "height": 555
        },
        "id": "ew9wC_VHhuKD",
        "outputId": "1ee816fa-f791-4c59-e49f-fdc61197831b"
      },
      "source": [
        "yn_sum = yes_no_df.sum()\n",
        "yn_sum.loc[ yn_sum.index!= 'user_id', ].plot.bar(legend= False\n",
        "                  , title='Counts reported'\n",
        "                  ,grid = True)"
      ],
      "execution_count": 12,
      "outputs": [
        {
          "output_type": "execute_result",
          "data": {
            "text/plain": [
              "<matplotlib.axes._subplots.AxesSubplot at 0x7fe0c5599bd0>"
            ]
          },
          "metadata": {},
          "execution_count": 12
        },
        {
          "output_type": "display_data",
          "data": {
            "image/png": "[encoded data removed]",
            "text/plain": [
              "<Figure size 864x576 with 1 Axes>"
            ]
          },
          "metadata": {
            "needs_background": "light"
          }
        }
      ]
    },
    {
      "cell_type": "markdown",
      "metadata": {
        "id": "bHxDt6_Pj3kV"
      },
      "source": [
        "Cramp is reported most followed by bloating and mood."
      ]
    },
    {
      "cell_type": "markdown",
      "metadata": {
        "id": "nkeGYzrIIfD3"
      },
      "source": [
        "## Counts group by person.\n",
        "- If a person reports cramp twice, it is counted as 1"
      ]
    },
    {
      "cell_type": "code",
      "metadata": {
        "colab": {
          "base_uri": "https://localhost:8080/",
          "height": 555
        },
        "id": "Ux5ybvyCIdpq",
        "outputId": "7a339448-c256-4c31-a0b8-4b4a4d715ee6"
      },
      "source": [
        "df_countOnce = yes_no_df.groupby( by = 'user_id').max()\n",
        "coutOnce_sum = df_countOnce.sum()\n",
        "coutOnce_sum.plot.bar(legend= False\n",
        "                  , title='Counts reported - each user Once'\n",
        "                  ,grid = True)"
      ],
      "execution_count": 13,
      "outputs": [
        {
          "output_type": "execute_result",
          "data": {
            "text/plain": [
              "<matplotlib.axes._subplots.AxesSubplot at 0x7fe0c5040d50>"
            ]
          },
          "metadata": {},
          "execution_count": 13
        },
        {
          "output_type": "display_data",
          "data": {
            "image/png": "[encoded data removed]",
            "text/plain": [
              "<Figure size 864x576 with 1 Axes>"
            ]
          },
          "metadata": {
            "needs_background": "light"
          }
        }
      ]
    },
    {
      "cell_type": "markdown",
      "metadata": {
        "id": "-qN-0LZOJ0QC"
      },
      "source": [
        "- We can say here that most people have cramp followed mood, bloating, backache, headache and sore."
      ]
    },
    {
      "cell_type": "markdown",
      "metadata": {
        "id": "-ylEBRbzkwqd"
      },
      "source": [
        "## Co- Occurance matrix "
      ]
    },
    {
      "cell_type": "code",
      "metadata": {
        "colab": {
          "base_uri": "https://localhost:8080/",
          "height": 500
        },
        "id": "zcnfOlWhpvAW",
        "outputId": "02a43066-64bc-4270-9a99-c886a1fdd0ba"
      },
      "source": [
        "import seaborn as sns\n",
        "plt.figure(figsize=(16,8))\n",
        "df_asint = yes_no_df[[y for y in yes_no_df.columns if y not in ['user_id','date'] ] ].astype(int)\n",
        "coocc = df_asint.T.dot(df_asint)\n",
        "\n",
        "# Getting the Upper Triangle of the co-relation matrix\n",
        "matrix = np.triu(coocc)\n",
        "\n",
        "# using the upper triangle matrix as mask \n",
        "sns.heatmap(coocc, annot=True, mask=matrix)"
      ],
      "execution_count": 14,
      "outputs": [
        {
          "output_type": "execute_result",
          "data": {
            "text/plain": [
              "<matplotlib.axes._subplots.AxesSubplot at 0x7fe0b74cb710>"
            ]
          },
          "metadata": {},
          "execution_count": 14
        },
        {
          "output_type": "display_data",
          "data": {
            "image/png": "[encoded data removed]",
            "text/plain": [
              "<Figure size 1152x576 with 2 Axes>"
            ]
          },
          "metadata": {
            "needs_background": "light"
          }
        }
      ]
    },
    {
      "cell_type": "markdown",
      "metadata": {
        "id": "Jebe1dhfrFzv"
      },
      "source": [
        "- Backache, cramp and bloating co-occur the most."
      ]
    },
    {
      "cell_type": "markdown",
      "metadata": {
        "id": "u7tnTBAFpzvn"
      },
      "source": [
        "## Correlation plot with severity\n",
        "- Using the origin dataframe with severity as it makes sense to use the severity in a correlation plot."
      ]
    },
    {
      "cell_type": "code",
      "metadata": {
        "colab": {
          "base_uri": "https://localhost:8080/",
          "height": 500
        },
        "id": "Y_HiFOLykv4I",
        "outputId": "7a5a2568-c421-4702-bb57-1d0b6bdc4c3d"
      },
      "source": [
        "corr= actual_df[[y for y in yes_no_df.columns if y not in ['user_id','date'] ] ].corr()\n",
        "\n",
        "# Getting the Upper Triangle of the co-relation matrix\n",
        "matrix = np.triu(corr)\n",
        "plt.figure(figsize= (16,8) )\n",
        "# using the upper triangle matrix as mask \n",
        "sns.heatmap(corr, annot=True, mask=matrix)"
      ],
      "execution_count": 15,
      "outputs": [
        {
          "output_type": "execute_result",
          "data": {
            "text/plain": [
              "<matplotlib.axes._subplots.AxesSubplot at 0x7fe0b6d31e10>"
            ]
          },
          "metadata": {},
          "execution_count": 15
        },
        {
          "output_type": "display_data",
          "data": {
            "image/png": "[encoded data removed]",
            "text/plain": [
              "<Figure size 1152x576 with 2 Axes>"
            ]
          },
          "metadata": {
            "needs_background": "light"
          }
        }
      ]
    },
    {
      "cell_type": "markdown",
      "metadata": {
        "id": "BT56zPBEl50y"
      },
      "source": [
        "- No strong correlations.\n",
        "- Hypothesis test of Backache and Cramp , Dizzy and Nausea to see if they are the same. If so, treatments/medicines can be made which treats all related symptoms with a single type of pill."
      ]
    },
    {
      "cell_type": "markdown",
      "metadata": {
        "id": "F9aPYRIyEnRk"
      },
      "source": [
        "## Hypothesis test between the symptoms\n",
        "- Null hypothesis: They occur independant of each other during menstruation. Even though correlatin is not strong, we check if we can call them indepandant."
      ]
    },
    {
      "cell_type": "code",
      "metadata": {
        "colab": {
          "base_uri": "https://localhost:8080/"
        },
        "id": "2jU-Ao_ul5GB",
        "outputId": "84a54332-2fbf-454c-ef3b-543cef37b330"
      },
      "source": [
        "from scipy.stats import chi2_contingency\n",
        "\n",
        "data_crosstab = pd.crosstab(yes_no_df['backache'].astype(int),\n",
        "                            yes_no_df['cramp'].astype(int),\n",
        "                               margins = False)\n",
        "\n",
        "chi2, p, dof, expctd = chi2_contingency(data_crosstab, correction=False)\n",
        "\n",
        "print('chi squared statistics: {} and p value : {}  '.format(chi2, p))\n",
        "print('Degree of freedom {} '.format(dof))\n",
        "print('\\n')\n",
        "print('Observed :')\n",
        "print(data_crosstab)\n",
        "print('Expected :')\n",
        "print(expctd)"
      ],
      "execution_count": 16,
      "outputs": [
        {
          "output_type": "stream",
          "name": "stdout",
          "text": [
            "chi squared statistics: 1514.1323249566183 and p value : 0.0  \n",
            "Degree of freedom 1 \n",
            "\n",
            "\n",
            "Observed :\n",
            "cramp        0     1\n",
            "backache            \n",
            "0         5197  3252\n",
            "1         1345  3667\n",
            "Expected :\n",
            "[[4106.18512741 4342.81487259]\n",
            " [2435.81487259 2576.18512741]]\n"
          ]
        }
      ]
    },
    {
      "cell_type": "markdown",
      "metadata": {
        "id": "wwiI8hj66gAN"
      },
      "source": [
        "- Reject : Backache and Cramp are Dependant ( related to one another)\n",
        "( Null hypothesis: Assumes that there is no association between the two variables)"
      ]
    },
    {
      "cell_type": "markdown",
      "metadata": {
        "id": "gaVpnfxN7tIx"
      },
      "source": [
        "## Least corelated \n",
        "- Diarrhoea and sore are tested for independance"
      ]
    },
    {
      "cell_type": "code",
      "metadata": {
        "colab": {
          "base_uri": "https://localhost:8080/"
        },
        "id": "I3toSBDx69AU",
        "outputId": "58d8e002-d6cb-4cfb-b07f-f524134cd635"
      },
      "source": [
        "data_crosstab = pd.crosstab(yes_no_df['sore'].astype(int),\n",
        "                            yes_no_df['diarrhea'].astype(int),\n",
        "                               margins = False)\n",
        "\n",
        "chi2, p, dof, expctd = chi2_contingency(data_crosstab, correction=False)\n",
        "\n",
        "print('chi squared statistics: {} and p value : {}  '.format(chi2, p))\n",
        "print('Degree of freedom {} '.format(dof))\n",
        "print('\\n')\n",
        "print('Observed :')\n",
        "print(data_crosstab)\n",
        "print('Expected :')\n",
        "print(expctd)"
      ],
      "execution_count": 17,
      "outputs": [
        {
          "output_type": "stream",
          "name": "stdout",
          "text": [
            "chi squared statistics: 162.3905857446655 and p value : 3.399050192307854e-37  \n",
            "Degree of freedom 1 \n",
            "\n",
            "\n",
            "Observed :\n",
            "diarrhea     0     1\n",
            "sore                \n",
            "0         8089  1298\n",
            "1         3149   925\n",
            "Expected :\n",
            "[[7836.79563183 1550.20436817]\n",
            " [3401.20436817  672.79563183]]\n"
          ]
        }
      ]
    },
    {
      "cell_type": "markdown",
      "metadata": {
        "id": "1oP2nBxC72Bv"
      },
      "source": [
        "- All symptoms are Dependant on each other according to the dataset. We could run the function inside a loop to find 2 way Chi Square tests for all."
      ]
    },
    {
      "cell_type": "code",
      "metadata": {
        "id": "t0E72iTc7XXY"
      },
      "source": [
        "chi_columns = [y for y in yes_no_df.columns if y not in ['user_id','date'] ]\n",
        "for c1 in chi_columns:\n",
        "  for c2 in chi_columns:\n",
        "    data_crosstab = pd.crosstab(yes_no_df[c1].astype(int),\n",
        "                            yes_no_df[c2].astype(int),\n",
        "                               margins = False)\n",
        "\n",
        "    chi2, p, dof, expctd = chi2_contingency(data_crosstab, correction=False)\n",
        "    if p > 0.01:\n",
        "      print('Independant Symptoms found')"
      ],
      "execution_count": 18,
      "outputs": []
    },
    {
      "cell_type": "markdown",
      "metadata": {
        "id": "3hcdvNTW9ObU"
      },
      "source": [
        "## Explanation to Grandma:\n",
        "- Cramp and mood changes are the most severe symptoms during menstruation, followed by backache, sore and bloating.\n",
        "- Most reported symptoms were Cramp, followed my bloating and mood changes.\n",
        "- Also, cramp, backache and bloating occur together the most.\n",
        "- The severity of any of the symptoms are not strongly correlated. One cannot be used to linearly predict the other.\n",
        "- No symptoms are independant of other symptoms. The occurance or absence of one may be dependant on ( can be affected by) others."
      ]
    },
    {
      "cell_type": "code",
      "metadata": {
        "id": "ANhf-jJ_PExL"
      },
      "source": [
        ""
      ],
      "execution_count": null,
      "outputs": []
    }
  ]
}