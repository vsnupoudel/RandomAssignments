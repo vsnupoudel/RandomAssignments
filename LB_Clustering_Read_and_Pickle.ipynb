{
  "nbformat": 4,
  "nbformat_minor": 0,
  "metadata": {
    "colab": {
      "name": "LB_Clustering_Read_and_Pickle.ipynb",
      "provenance": [],
      "collapsed_sections": [],
      "include_colab_link": true
    },
    "kernelspec": {
      "display_name": "Python 3",
      "language": "python",
      "name": "python3"
    },
    "language_info": {
      "codemirror_mode": {
        "name": "ipython",
        "version": 3
      },
      "file_extension": ".py",
      "mimetype": "text/x-python",
      "name": "python",
      "nbconvert_exporter": "python",
      "pygments_lexer": "ipython3",
      "version": "3.7.9"
    }
  },
  "cells": [
    {
      "cell_type": "markdown",
      "metadata": {
        "id": "view-in-github",
        "colab_type": "text"
      },
      "source": [
        "<a href=\"https://colab.research.google.com/github/vsnupoudel/RandomAssignments/blob/main/LB_Clustering_Read_and_Pickle.ipynb\" target=\"_parent\"><img src=\"https://colab.research.google.com/assets/colab-badge.svg\" alt=\"Open In Colab\"/></a>"
      ]
    },
    {
      "cell_type": "markdown",
      "metadata": {
        "id": "lEZ78scqRb0D"
      },
      "source": [
        "# EDA, Cleaning and Clustering for Forex Clients data"
      ]
    },
    {
      "cell_type": "markdown",
      "metadata": {
        "id": "2NZDQDo2Rb0H"
      },
      "source": [
        "Credentials\n",
        "- host: technical-test-1.cgajoruzs0oh.ap-southeast-2.rds.amazonaws.com\n",
        "- port: 5432\n",
        "- database: technical_test\n",
        "- user: candidate\n",
        "- password: NW337AkNQH76veGc"
      ]
    },
    {
      "cell_type": "markdown",
      "metadata": {
        "id": "WjCqrrwtnWqL"
      },
      "source": [
        "- **Install and restart kernel if needed**"
      ]
    },
    {
      "cell_type": "code",
      "metadata": {
        "id": "DxWthGoURb0J"
      },
      "source": [
        "# !pip install psycopg2\n",
        "# !pip install yellowbrick"
      ],
      "execution_count": null,
      "outputs": []
    },
    {
      "cell_type": "code",
      "metadata": {
        "id": "r7OsY-gvRb0L"
      },
      "source": [
        "import pandas as pd\n",
        "import numpy as np\n",
        "import matplotlib.pyplot as plt\n",
        "import psycopg2"
      ],
      "execution_count": null,
      "outputs": []
    },
    {
      "cell_type": "code",
      "metadata": {
        "id": "c1oAJuMXRb0N"
      },
      "source": [
        "class Connection:\n",
        "    def __init__(self):\n",
        "        self.connection = psycopg2.connect(user = \"candidate\",\n",
        "                              password = \"NW337AkNQH76veGc\",\n",
        "                              host = \"technical-test-1.cgajoruzs0oh.ap-southeast-2.rds.amazonaws.com\",\n",
        "                              port = \"5432\",\n",
        "                              database = \"technical_test\")\n",
        "        \n",
        "    def queryin(self, query_string):\n",
        "        with self.connection.cursor()  as cursor: \n",
        "            cursor.execute( query_string )\n",
        "            colnames = [desc[0] for desc in cursor.description]\n",
        "            result_df = pd.DataFrame(cursor.fetchall(), columns=colnames)\n",
        "            cursor.close()\n",
        "        return result_df\n",
        "    \n",
        "    def close_conn(self):\n",
        "        self.connection.close()        "
      ],
      "execution_count": null,
      "outputs": []
    },
    {
      "cell_type": "markdown",
      "metadata": {
        "id": "kgN8W1lYRb0O"
      },
      "source": [
        "## Tables are small enough to load directly into pd dataframe\n",
        "- Reading Individual tables as dataframes and merging them in pandas.\n",
        "- Could be joined directly later,if the table characteristics are known"
      ]
    },
    {
      "cell_type": "code",
      "metadata": {
        "id": "tvqoz9c8Rb0P"
      },
      "source": [
        "connection = Connection()"
      ],
      "execution_count": null,
      "outputs": []
    },
    {
      "cell_type": "code",
      "metadata": {
        "colab": {
          "base_uri": "https://localhost:8080/",
          "height": 542
        },
        "id": "-KLx6wHiRb0P",
        "outputId": "4e1f3299-6aed-4661-ed4f-8bfd9afb67ef"
      },
      "source": [
        "select_table_query = '''SELECT column_name, data_type, is_nullable\n",
        "FROM information_schema.columns\n",
        "WHERE table_name in ('trades','users') ; '''\n",
        "\n",
        "connection.queryin(select_table_query)"
      ],
      "execution_count": null,
      "outputs": [
        {
          "data": {
            "text/html": [
              "<div>\n",
              "<style scoped>\n",
              "    .dataframe tbody tr th:only-of-type {\n",
              "        vertical-align: middle;\n",
              "    }\n",
              "\n",
              "    .dataframe tbody tr th {\n",
              "        vertical-align: top;\n",
              "    }\n",
              "\n",
              "    .dataframe thead th {\n",
              "        text-align: right;\n",
              "    }\n",
              "</style>\n",
              "<table border=\"1\" class=\"dataframe\">\n",
              "  <thead>\n",
              "    <tr style=\"text-align: right;\">\n",
              "      <th></th>\n",
              "      <th>column_name</th>\n",
              "      <th>data_type</th>\n",
              "      <th>is_nullable</th>\n",
              "    </tr>\n",
              "  </thead>\n",
              "  <tbody>\n",
              "    <tr>\n",
              "      <th>0</th>\n",
              "      <td>login_hash</td>\n",
              "      <td>text</td>\n",
              "      <td>YES</td>\n",
              "    </tr>\n",
              "    <tr>\n",
              "      <th>1</th>\n",
              "      <td>ticket_hash</td>\n",
              "      <td>text</td>\n",
              "      <td>YES</td>\n",
              "    </tr>\n",
              "    <tr>\n",
              "      <th>2</th>\n",
              "      <td>server_hash</td>\n",
              "      <td>text</td>\n",
              "      <td>YES</td>\n",
              "    </tr>\n",
              "    <tr>\n",
              "      <th>3</th>\n",
              "      <td>symbol</td>\n",
              "      <td>text</td>\n",
              "      <td>YES</td>\n",
              "    </tr>\n",
              "    <tr>\n",
              "      <th>4</th>\n",
              "      <td>digits</td>\n",
              "      <td>bigint</td>\n",
              "      <td>YES</td>\n",
              "    </tr>\n",
              "    <tr>\n",
              "      <th>5</th>\n",
              "      <td>cmd</td>\n",
              "      <td>bigint</td>\n",
              "      <td>YES</td>\n",
              "    </tr>\n",
              "    <tr>\n",
              "      <th>6</th>\n",
              "      <td>volume</td>\n",
              "      <td>bigint</td>\n",
              "      <td>YES</td>\n",
              "    </tr>\n",
              "    <tr>\n",
              "      <th>7</th>\n",
              "      <td>open_time</td>\n",
              "      <td>timestamp without time zone</td>\n",
              "      <td>YES</td>\n",
              "    </tr>\n",
              "    <tr>\n",
              "      <th>8</th>\n",
              "      <td>open_price</td>\n",
              "      <td>double precision</td>\n",
              "      <td>YES</td>\n",
              "    </tr>\n",
              "    <tr>\n",
              "      <th>9</th>\n",
              "      <td>close_time</td>\n",
              "      <td>timestamp without time zone</td>\n",
              "      <td>YES</td>\n",
              "    </tr>\n",
              "    <tr>\n",
              "      <th>10</th>\n",
              "      <td>contractsize</td>\n",
              "      <td>double precision</td>\n",
              "      <td>YES</td>\n",
              "    </tr>\n",
              "    <tr>\n",
              "      <th>11</th>\n",
              "      <td>login_hash</td>\n",
              "      <td>text</td>\n",
              "      <td>YES</td>\n",
              "    </tr>\n",
              "    <tr>\n",
              "      <th>12</th>\n",
              "      <td>server_hash</td>\n",
              "      <td>text</td>\n",
              "      <td>YES</td>\n",
              "    </tr>\n",
              "    <tr>\n",
              "      <th>13</th>\n",
              "      <td>country_hash</td>\n",
              "      <td>text</td>\n",
              "      <td>YES</td>\n",
              "    </tr>\n",
              "    <tr>\n",
              "      <th>14</th>\n",
              "      <td>currency</td>\n",
              "      <td>text</td>\n",
              "      <td>YES</td>\n",
              "    </tr>\n",
              "    <tr>\n",
              "      <th>15</th>\n",
              "      <td>enable</td>\n",
              "      <td>bigint</td>\n",
              "      <td>YES</td>\n",
              "    </tr>\n",
              "  </tbody>\n",
              "</table>\n",
              "</div>"
            ],
            "text/plain": [
              "     column_name                    data_type is_nullable\n",
              "0     login_hash                         text         YES\n",
              "1    ticket_hash                         text         YES\n",
              "2    server_hash                         text         YES\n",
              "3         symbol                         text         YES\n",
              "4         digits                       bigint         YES\n",
              "5            cmd                       bigint         YES\n",
              "6         volume                       bigint         YES\n",
              "7      open_time  timestamp without time zone         YES\n",
              "8     open_price             double precision         YES\n",
              "9     close_time  timestamp without time zone         YES\n",
              "10  contractsize             double precision         YES\n",
              "11    login_hash                         text         YES\n",
              "12   server_hash                         text         YES\n",
              "13  country_hash                         text         YES\n",
              "14      currency                         text         YES\n",
              "15        enable                       bigint         YES"
            ]
          },
          "execution_count": 69,
          "metadata": {},
          "output_type": "execute_result"
        }
      ]
    },
    {
      "cell_type": "markdown",
      "metadata": {
        "id": "bc0Nnu1_Rb0R"
      },
      "source": [
        "## From looking at tables\n",
        "-duplicates in user table"
      ]
    },
    {
      "cell_type": "code",
      "metadata": {
        "colab": {
          "base_uri": "https://localhost:8080/"
        },
        "id": "DNpV_X2bRb0R",
        "outputId": "3dac7a54-4381-4a4e-fb8a-d0238bfc1100"
      },
      "source": [
        "print(connection.queryin('SELECT count(*) from users ;'))\n",
        "print(connection.queryin('''select count(*) from (select DISTINCT login_hash,  country_hash, currency, enable \n",
        "from users) as sq;'''))"
      ],
      "execution_count": null,
      "outputs": [
        {
          "name": "stdout",
          "output_type": "stream",
          "text": [
            "   count\n",
            "0   1000\n",
            "   count\n",
            "0    666\n"
          ]
        }
      ]
    },
    {
      "cell_type": "markdown",
      "metadata": {
        "id": "w02Ya8KARb0S"
      },
      "source": [
        "- primary key of trades could be login_hash and ticket_hash"
      ]
    },
    {
      "cell_type": "code",
      "metadata": {
        "colab": {
          "base_uri": "https://localhost:8080/"
        },
        "id": "tGHWXDL_Rb0S",
        "outputId": "56799e68-93bb-4883-94a8-77f9343ea93d"
      },
      "source": [
        "print( connection.queryin('''select count(*) from (select DISTINCT login_hash, ticket_hash from trades ) as sq;'''))\n",
        "print( connection.queryin('''select count(*) from trades;''') )"
      ],
      "execution_count": null,
      "outputs": [
        {
          "name": "stdout",
          "output_type": "stream",
          "text": [
            "    count\n",
            "0  100000\n",
            "    count\n",
            "0  100000\n"
          ]
        }
      ]
    },
    {
      "cell_type": "markdown",
      "metadata": {
        "id": "LsPFUkgFRb0T"
      },
      "source": [
        "## Observations\n",
        "- trades is unique on login_hash and ticket_hash\n",
        "\n",
        "### Storing users table as dataframe, and running checks on it"
      ]
    },
    {
      "cell_type": "code",
      "metadata": {
        "id": "cpCnyZmrRb0T"
      },
      "source": [
        "usersdf = connection.queryin('''select DISTINCT login_hash, server_hash, country_hash, currency, enable \n",
        "from users;''')"
      ],
      "execution_count": null,
      "outputs": []
    },
    {
      "cell_type": "code",
      "metadata": {
        "colab": {
          "base_uri": "https://localhost:8080/",
          "height": 142
        },
        "id": "Em3V7A__Rb0U",
        "outputId": "6509b0ec-434b-4346-9213-39710b26d134"
      },
      "source": [
        "usersdf[usersdf['currency'] != 'USD'].sample(3)"
      ],
      "execution_count": null,
      "outputs": [
        {
          "data": {
            "text/html": [
              "<div>\n",
              "<style scoped>\n",
              "    .dataframe tbody tr th:only-of-type {\n",
              "        vertical-align: middle;\n",
              "    }\n",
              "\n",
              "    .dataframe tbody tr th {\n",
              "        vertical-align: top;\n",
              "    }\n",
              "\n",
              "    .dataframe thead th {\n",
              "        text-align: right;\n",
              "    }\n",
              "</style>\n",
              "<table border=\"1\" class=\"dataframe\">\n",
              "  <thead>\n",
              "    <tr style=\"text-align: right;\">\n",
              "      <th></th>\n",
              "      <th>login_hash</th>\n",
              "      <th>server_hash</th>\n",
              "      <th>country_hash</th>\n",
              "      <th>currency</th>\n",
              "      <th>enable</th>\n",
              "    </tr>\n",
              "  </thead>\n",
              "  <tbody>\n",
              "    <tr>\n",
              "      <th>513</th>\n",
              "      <td>FAE10F63521309082E08AF7849D3A880</td>\n",
              "      <td>3D1F7E00251C43107EF39F55300781DB</td>\n",
              "      <td>4442E4AF0916F53A07FB8CA9A49B98ED</td>\n",
              "      <td>AUD</td>\n",
              "      <td>1</td>\n",
              "    </tr>\n",
              "    <tr>\n",
              "      <th>255</th>\n",
              "      <td>276CB91E08BAACD855A954DFE0E76746</td>\n",
              "      <td>3D1F7E00251C43107EF39F55300781DB</td>\n",
              "      <td>4442E4AF0916F53A07FB8CA9A49B98ED</td>\n",
              "      <td>AUD</td>\n",
              "      <td>1</td>\n",
              "    </tr>\n",
              "    <tr>\n",
              "      <th>639</th>\n",
              "      <td>452E3BC11C4F036DF93E93EE4109D930</td>\n",
              "      <td>3D1F7E00251C43107EF39F55300781DB</td>\n",
              "      <td>4442E4AF0916F53A07FB8CA9A49B98ED</td>\n",
              "      <td>AUD</td>\n",
              "      <td>1</td>\n",
              "    </tr>\n",
              "  </tbody>\n",
              "</table>\n",
              "</div>"
            ],
            "text/plain": [
              "                           login_hash  ... enable\n",
              "513  FAE10F63521309082E08AF7849D3A880  ...      1\n",
              "255  276CB91E08BAACD855A954DFE0E76746  ...      1\n",
              "639  452E3BC11C4F036DF93E93EE4109D930  ...      1\n",
              "\n",
              "[3 rows x 5 columns]"
            ]
          },
          "execution_count": 73,
          "metadata": {},
          "output_type": "execute_result"
        }
      ]
    },
    {
      "cell_type": "code",
      "metadata": {
        "colab": {
          "base_uri": "https://localhost:8080/"
        },
        "id": "JL2l2FSzRb0U",
        "outputId": "764c1d0a-01f2-4baa-80e7-995d1c14ff86"
      },
      "source": [
        "print(usersdf.shape)\n",
        "print( len(usersdf.login_hash.unique() ) )"
      ],
      "execution_count": null,
      "outputs": [
        {
          "name": "stdout",
          "output_type": "stream",
          "text": [
            "(666, 5)\n",
            "666\n"
          ]
        }
      ]
    },
    {
      "cell_type": "markdown",
      "metadata": {
        "id": "yrCZr1mRRb0W"
      },
      "source": [
        "- Now the table is unique on login_hash; So, can be joined with the trades table"
      ]
    },
    {
      "cell_type": "markdown",
      "metadata": {
        "id": "m_sZWwxPRb0W"
      },
      "source": [
        "# Check for null values before joining"
      ]
    },
    {
      "cell_type": "code",
      "metadata": {
        "colab": {
          "base_uri": "https://localhost:8080/"
        },
        "id": "qtbDXgjfRb0W",
        "outputId": "4755c6e5-6b23-4f16-f15f-df426c1304e6"
      },
      "source": [
        "usersdf.isna().sum()"
      ],
      "execution_count": null,
      "outputs": [
        {
          "data": {
            "text/plain": [
              "login_hash      0\n",
              "server_hash     0\n",
              "country_hash    0\n",
              "currency        0\n",
              "enable          0\n",
              "dtype: int64"
            ]
          },
          "execution_count": 75,
          "metadata": {},
          "output_type": "execute_result"
        }
      ]
    },
    {
      "cell_type": "code",
      "metadata": {
        "id": "XLw2z12bRb0Y"
      },
      "source": [
        "tradesdf = connection.queryin('''SELECT * FROM trades;''')"
      ],
      "execution_count": null,
      "outputs": []
    },
    {
      "cell_type": "code",
      "metadata": {
        "colab": {
          "base_uri": "https://localhost:8080/"
        },
        "id": "_j3a8WyZRb0Z",
        "outputId": "97c2a3d5-0d01-4125-f899-b327d06b81e5"
      },
      "source": [
        "print( len(tradesdf.login_hash.unique()) )\n",
        "print( len(usersdf.login_hash.unique()))"
      ],
      "execution_count": null,
      "outputs": [
        {
          "name": "stdout",
          "output_type": "stream",
          "text": [
            "5142\n",
            "666\n"
          ]
        }
      ]
    },
    {
      "cell_type": "code",
      "metadata": {
        "colab": {
          "base_uri": "https://localhost:8080/",
          "height": 198
        },
        "id": "43YZx5uxRb0a",
        "outputId": "5069526a-a0b1-47de-8615-e21163bf224d"
      },
      "source": [
        "tradesdf.sample(2)"
      ],
      "execution_count": null,
      "outputs": [
        {
          "data": {
            "text/html": [
              "<div>\n",
              "<style scoped>\n",
              "    .dataframe tbody tr th:only-of-type {\n",
              "        vertical-align: middle;\n",
              "    }\n",
              "\n",
              "    .dataframe tbody tr th {\n",
              "        vertical-align: top;\n",
              "    }\n",
              "\n",
              "    .dataframe thead th {\n",
              "        text-align: right;\n",
              "    }\n",
              "</style>\n",
              "<table border=\"1\" class=\"dataframe\">\n",
              "  <thead>\n",
              "    <tr style=\"text-align: right;\">\n",
              "      <th></th>\n",
              "      <th>login_hash</th>\n",
              "      <th>ticket_hash</th>\n",
              "      <th>server_hash</th>\n",
              "      <th>symbol</th>\n",
              "      <th>digits</th>\n",
              "      <th>cmd</th>\n",
              "      <th>volume</th>\n",
              "      <th>open_time</th>\n",
              "      <th>open_price</th>\n",
              "      <th>close_time</th>\n",
              "      <th>contractsize</th>\n",
              "    </tr>\n",
              "  </thead>\n",
              "  <tbody>\n",
              "    <tr>\n",
              "      <th>81427</th>\n",
              "      <td>2369EEC226F9702B25C9EA254443510F</td>\n",
              "      <td>E40898FFA8AAE5238E583C3471522D7D</td>\n",
              "      <td>2F1CA40D76D7E6165DBA3924CE0D3B5C</td>\n",
              "      <td>USDCHF</td>\n",
              "      <td>5</td>\n",
              "      <td>0</td>\n",
              "      <td>10</td>\n",
              "      <td>2020-08-07 16:20:04</td>\n",
              "      <td>0.91550</td>\n",
              "      <td>2020-08-11 12:08:19</td>\n",
              "      <td>100000.0</td>\n",
              "    </tr>\n",
              "    <tr>\n",
              "      <th>82815</th>\n",
              "      <td>7060E30AD6D73F360B2D779416EE289C</td>\n",
              "      <td>014D2156BC6A6BA299F5F794FCBF1C93</td>\n",
              "      <td>2F1CA40D76D7E6165DBA3924CE0D3B5C</td>\n",
              "      <td>EURUSD</td>\n",
              "      <td>5</td>\n",
              "      <td>0</td>\n",
              "      <td>2</td>\n",
              "      <td>2020-08-13 17:11:00</td>\n",
              "      <td>1.18625</td>\n",
              "      <td>2020-08-14 09:07:01</td>\n",
              "      <td>100000.0</td>\n",
              "    </tr>\n",
              "  </tbody>\n",
              "</table>\n",
              "</div>"
            ],
            "text/plain": [
              "                             login_hash  ... contractsize\n",
              "81427  2369EEC226F9702B25C9EA254443510F  ...     100000.0\n",
              "82815  7060E30AD6D73F360B2D779416EE289C  ...     100000.0\n",
              "\n",
              "[2 rows x 11 columns]"
            ]
          },
          "execution_count": 78,
          "metadata": {},
          "output_type": "execute_result"
        }
      ]
    },
    {
      "cell_type": "markdown",
      "metadata": {
        "id": "OcDkjGqMRb0b"
      },
      "source": [
        "# Extract data and close connection\n",
        "- left join on the fact table ( trades)"
      ]
    },
    {
      "cell_type": "code",
      "metadata": {
        "id": "s_DegKAERb0c"
      },
      "source": [
        "output = connection.queryin('''SELECT tr.*, usr.*\n",
        "                                FROM trades as tr \n",
        "                                LEFT JOIN ( select DISTINCT login_hash,  country_hash, currency, enable \n",
        "                                from users)  as usr \n",
        "                                ON tr.login_hash = usr.login_hash;''')\n",
        "\n",
        "connection.close_conn()"
      ],
      "execution_count": null,
      "outputs": []
    },
    {
      "cell_type": "code",
      "metadata": {
        "id": "UeOqH5FYRb0d"
      },
      "source": [
        "opath = 'outputdf.pkl'\n",
        "output.to_pickle(path= opath )"
      ],
      "execution_count": null,
      "outputs": []
    }
  ]
}